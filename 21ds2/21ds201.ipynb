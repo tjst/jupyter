{
 "cells": [
  {
   "cell_type": "markdown",
   "metadata": {},
   "source": [
    "<font size=6 color=\"green\">2021年度データサイエンスII 第１回</font>\n",
    "\n",
    "+ 学籍番号\n",
    "+ 氏名"
   ]
  },
  {
   "cell_type": "markdown",
   "metadata": {},
   "source": [
    "<font color=\"red\" size=3>クラウド環境は短時間に使えなくなるので、頻繁にノートをダウンロードして手元に保存するように</font>"
   ]
  },
  {
   "cell_type": "markdown",
   "metadata": {},
   "source": [
    "# 今日のテーマ"
   ]
  },
  {
   "cell_type": "markdown",
   "metadata": {},
   "source": [
    "## 問題A：平面上の与えられた$N$点を通るp次代数曲線を求めよ。"
   ]
  },
  {
   "cell_type": "markdown",
   "metadata": {},
   "source": [
    "+ 解決可能性: $p$次以下の単項の数を$K_p$は$K_p=1+2+3+\\cdots+p+1=\\frac{(p+1)(p+2)}2$\n",
    "\n",
    "| $p$ |  1 | 2 | 3 | 4 | 5 |\n",
    "|:--:|:--:|:--:|:--:|:--:|:--:|\n",
    "| $K_p-1$ | 2 | 5 |  9 | 14 | 20 |\n",
    "\n",
    "+ $N<K_p$の時は、解が存在する\n",
    "+ $N\\geq K_p$の時は、一般には存在しない。\n",
    "\n"
   ]
  },
  {
   "cell_type": "markdown",
   "metadata": {},
   "source": [
    "## 問題Aの一般化：平面上の与えられた𝑁点の最良近似p次代数曲線を求めよ。"
   ]
  },
  {
   "cell_type": "markdown",
   "metadata": {},
   "source": [
    "+ 「最良近似」の意味に多様性がある。\n",
    "\n",
    "+ 「最小二乗法」$\\sum_{0\\leq i<N}f(x_i,y_i)^2$が最小となる$f$を求めよ（ただしp次式fの係数のノルムは1とする）\n",
    "    + $N<K_p$の時は、問題１も解決する。"
   ]
  },
  {
   "cell_type": "markdown",
   "metadata": {},
   "source": [
    "# <font color=\"green\">問題[1]   5点が決める二次曲線を求めよ</font>"
   ]
  },
  {
   "cell_type": "markdown",
   "metadata": {},
   "source": [
    "## $p=2$の場合"
   ]
  },
  {
   "cell_type": "markdown",
   "metadata": {},
   "source": [
    "+ 5つの点を与える。\n",
    "\n",
    "+ $P_0=\\left[\\begin{matrix}0\\\\-1\\end{matrix}\\right]$ は pythonでは`[0,-1]`\n",
    "+ $P_1=\\left[\\begin{matrix}-1\\\\1\\end{matrix}\\right]$ は pythonでは`[-1,1]`\n",
    "+ $P_2=\\left[\\begin{matrix}2\\\\2\\end{matrix}\\right]$ は pythonでは`[2,2]`\n",
    "+ $P_3=\\left[\\begin{matrix}-3\\\\-3\\end{matrix}\\right]$ は pythonでは`[-3,-3]`\n",
    "+ $P_4=\\left[\\begin{matrix}-2\\\\2\\end{matrix}\\right]$ は pythonでは`[-2,2]"
   ]
  },
  {
   "cell_type": "markdown",
   "metadata": {},
   "source": [
    "<img src=\"https://ac-net.org/tjst/lct/21/21ds2/img/21ds201A.png\" width=300>"
   ]
  },
  {
   "cell_type": "markdown",
   "metadata": {},
   "source": [
    "+ この５点をまとめて(5,2)行列で表す： \n",
    "　　　$$D:=\\left[\\begin{matrix}0&-1\\\\-1&1\\\\2&2\\\\-3&-3\\\\-2&2\\end{matrix}\\right]$$\n",
    "\n",
    "\n",
    "+ 二次曲線を $f_{\\mathbf k}(x,y)=k_0x^2+k_1xy+k_2y^2+k_3x+k_4y+k_5=0$と表す。\n",
    "     + ただし${\\mathbf k}=\\left[\\begin{matrix}k_0\\\\k_1\\\\k_2\\\\k_3\\\\k_4\\\\k_5\\end{matrix}\\right]$\n",
    "   "
   ]
  },
  {
   "cell_type": "markdown",
   "metadata": {},
   "source": [
    "## 求め方の数学的説明"
   ]
  },
  {
   "cell_type": "markdown",
   "metadata": {},
   "source": [
    "### 要点"
   ]
  },
  {
   "cell_type": "markdown",
   "metadata": {},
   "source": [
    "1. $\\mathbf k$についての方程式は\n",
    "\n",
    "    + $f_{\\mathbf k}(x_i,y_i)=0$ ($0\\leq i\\leq 4$)\n",
    "    \n",
    "\n",
    "2. これは $D_2{\\mathbf k}=\\mathbf 0$という線型方程式系.    \n",
    "    + $D_2=\\left[\\begin{matrix}\n",
    "    x_0^2&x_0y_0&y_0^2&x_0&y_0&1\\\\\n",
    "    x_1^2&x_1y_1&y_1^2&x_1&y_1&1\\\\\n",
    "    x_2^2&x_2y_2&y_2^2&x_2&y_2&1\\\\\n",
    "    x_3^2&x_3y_3&y_3^2&x_3&y_3&1\\\\\n",
    "    x_4^2&x_4y_4&y_4^2&x_4&y_4&1\n",
    "    \\end{matrix}\\right]$\n",
    "    \n",
    "    + $D_2$ は $5\\times 6$行列なので、自明でない解がある。\n",
    "\n",
    "\n",
    "3. これは$({}^tD_2 D_2) {\\mathbf k}={\\mathbf 0}$ と同値。\n",
    "\n",
    "\n",
    "4. 従って、$\\mathbf k$は 6次正方行列${}^tD_2 D_2$の$0$固有ベクトル\n",
    "\n",
    "\n",
    "5. 以下、これを python で計算する"
   ]
  },
  {
   "cell_type": "markdown",
   "metadata": {},
   "source": [
    "## データサイエンスI, 情報処理の復習"
   ]
  },
  {
   "cell_type": "markdown",
   "metadata": {},
   "source": [
    "### jupyter notebookの使い方"
   ]
  },
  {
   "cell_type": "markdown",
   "metadata": {},
   "source": [
    "+ 復習用動画. 次のURLをクリックしてください。(Panopto へのログインが必要です）\n",
    "\n",
    "https://ritsumei.ap.panopto.com/Panopto/Pages/Viewer.aspx?id=45f4def8-8186-4174-8a06-ad010082d0e9&start=0"
   ]
  },
  {
   "cell_type": "markdown",
   "metadata": {},
   "source": [
    "### python の基本"
   ]
  },
  {
   "cell_type": "markdown",
   "metadata": {},
   "source": [
    "+ 復習用動画\n",
    "\n",
    "https://ritsumei.ap.panopto.com/Panopto/Pages/Viewer.aspx?id=dcbd86fd-400e-4fbd-b90c-ad010091c085&start=0"
   ]
  },
  {
   "cell_type": "markdown",
   "metadata": {},
   "source": [
    "## numpy を用いた行列処理"
   ]
  },
  {
   "cell_type": "markdown",
   "metadata": {},
   "source": [
    "### 概説"
   ]
  },
  {
   "cell_type": "markdown",
   "metadata": {},
   "source": [
    "+ 解説動画\n",
    "\n",
    "https://ritsumei.ap.panopto.com/Panopto/Pages/Viewer.aspx?id=d5a87bed-4af9-40ca-8c91-ad01009afbdb&start=0"
   ]
  },
  {
   "cell_type": "markdown",
   "metadata": {},
   "source": [
    "+ 内容\n",
    "  + numpy array の基本 \n",
    "    + `import numpy as np`で読み込む\n",
    "    + np.array(python リスト）\n",
    "  + <font color=red>f(x)</font> = [f(u) for u in u in x]\n",
    "  + 積 x@y\n",
    "  + 逆行列 np.linalg(x)\n",
    "  + 固有値問題 np.linalg.eig(x)"
   ]
  },
  {
   "cell_type": "markdown",
   "metadata": {},
   "source": [
    "### 具体的コード"
   ]
  },
  {
   "cell_type": "markdown",
   "metadata": {},
   "source": [
    "#### ライブラリ numpy を読込"
   ]
  },
  {
   "cell_type": "code",
   "execution_count": null,
   "metadata": {},
   "outputs": [],
   "source": [
    "import numpy as np"
   ]
  },
  {
   "cell_type": "markdown",
   "metadata": {},
   "source": [
    "#### numpy arrayとして$D=\\left[\\begin{matrix}0&-1\\\\-1&1\\\\2&2\\\\-3&-3\\\\-2&2\\end{matrix}\\right]$を定義"
   ]
  },
  {
   "cell_type": "code",
   "execution_count": null,
   "metadata": {},
   "outputs": [],
   "source": [
    "D=np.array([[ 0, -1],[-1,  1],[ 2,  2],[-3, -3],[-2,  2]])\n",
    "D"
   ]
  },
  {
   "cell_type": "markdown",
   "metadata": {},
   "source": [
    "#### Dのタイプと形を確認"
   ]
  },
  {
   "cell_type": "code",
   "execution_count": null,
   "metadata": {},
   "outputs": [],
   "source": [
    "type(D),D.shape"
   ]
  },
  {
   "cell_type": "markdown",
   "metadata": {},
   "source": [
    "#### 成分のアクセス\n",
    "+ (i,j)成分は D[i-1,j-1]"
   ]
  },
  {
   "cell_type": "code",
   "execution_count": null,
   "metadata": {},
   "outputs": [],
   "source": [
    "print(\"D=\",D)\n",
    "print(\"(1,1)成分はD[0,0]と書く=\",D[0,0])"
   ]
  },
  {
   "cell_type": "markdown",
   "metadata": {},
   "source": [
    "#### 第i列ベクトルは `D[:, i-1]`"
   ]
  },
  {
   "cell_type": "code",
   "execution_count": null,
   "metadata": {},
   "outputs": [],
   "source": [
    "D[:,0]"
   ]
  },
  {
   "cell_type": "markdown",
   "metadata": {},
   "source": [
    "+ これは行列ではなくベクトルであることが、次で確認できる。"
   ]
  },
  {
   "cell_type": "code",
   "execution_count": null,
   "metadata": {
    "scrolled": true
   },
   "outputs": [],
   "source": [
    "D[:,0].shape"
   ]
  },
  {
   "cell_type": "markdown",
   "metadata": {},
   "source": [
    "+ （補足） (5,1)行列にするには `D[:,[0]]`"
   ]
  },
  {
   "cell_type": "code",
   "execution_count": null,
   "metadata": {},
   "outputs": [],
   "source": [
    "D[:,[0]].shape"
   ]
  },
  {
   "cell_type": "markdown",
   "metadata": {},
   "source": [
    "#### 第j行ベクトルは `D[ j-1 ]`"
   ]
  },
  {
   "cell_type": "code",
   "execution_count": null,
   "metadata": {},
   "outputs": [],
   "source": [
    "D[0]"
   ]
  },
  {
   "cell_type": "markdown",
   "metadata": {},
   "source": [
    "#### （重要）numpy ベクトルの演算"
   ]
  },
  {
   "cell_type": "markdown",
   "metadata": {},
   "source": [
    "+ <font color=\"red\">xの各成分に関数fを施したベクトルは f(x)と書ける。　</font> \n",
    "\n",
    " つまり `f(x)` で `[f(u) for u in x]`　を表すことができる。\n",
    "\n",
    "   "
   ]
  },
  {
   "cell_type": "code",
   "execution_count": null,
   "metadata": {},
   "outputs": [],
   "source": [
    "a=np.arange(10)\n",
    "print(a)\n",
    "print(\"a**2=\",a**2)\n",
    "print(\"2**a=\",2**a)"
   ]
  },
  {
   "cell_type": "code",
   "execution_count": null,
   "metadata": {},
   "outputs": [],
   "source": [
    "from numpy import sin\n",
    "print(\"sin(a)=\",sin(a))"
   ]
  },
  {
   "cell_type": "markdown",
   "metadata": {},
   "source": [
    "#### 行列の積  `x@y`"
   ]
  },
  {
   "cell_type": "code",
   "execution_count": null,
   "metadata": {},
   "outputs": [],
   "source": [
    "A=np.array([[1,2],[3,4],[5,6]])\n",
    "B=np.array([[1,-1],[1,1]])\n",
    "A,B,A.shape,B.shape\n"
   ]
  },
  {
   "cell_type": "code",
   "execution_count": null,
   "metadata": {},
   "outputs": [],
   "source": [
    "A@B"
   ]
  },
  {
   "cell_type": "markdown",
   "metadata": {},
   "source": [
    "+ 次はエラーとなる"
   ]
  },
  {
   "cell_type": "code",
   "execution_count": null,
   "metadata": {},
   "outputs": [],
   "source": [
    "B@A"
   ]
  },
  {
   "cell_type": "markdown",
   "metadata": {},
   "source": [
    "#### 転置行列 D.T\n"
   ]
  },
  {
   "cell_type": "code",
   "execution_count": null,
   "metadata": {},
   "outputs": [],
   "source": [
    "print(D)\n",
    "print(D.T)"
   ]
  },
  {
   "cell_type": "markdown",
   "metadata": {},
   "source": [
    "#### 固有値問題"
   ]
  },
  {
   "cell_type": "code",
   "execution_count": null,
   "metadata": {},
   "outputs": [],
   "source": [
    "B=np.array([[0,0,-2],[1,-1,-2],[0,-2,-1]])\n",
    "print(B)"
   ]
  },
  {
   "cell_type": "code",
   "execution_count": null,
   "metadata": {},
   "outputs": [],
   "source": [
    "np.linalg.eig(B)"
   ]
  },
  {
   "cell_type": "markdown",
   "metadata": {},
   "source": [
    "<font color=\"blue\">結果の読み方</font>"
   ]
  },
  {
   "cell_type": "markdown",
   "metadata": {},
   "source": [
    "+ 固有値が $\\lambda_1=-2.56155281.., \\lambda_2=-1,  \\lambda_3=1.56155281..$\n",
    "+ $\\lambda_1$固有ベクトルは $\\left[\\begin{matrix}-5.24114471..\\\\-5.24114471\\\\-6.71273449..\\end{matrix}\\right]$\n",
    "+ $\\lambda_2$固有ベクトルは $\\left[\\begin{matrix}-894427192..\\\\0.00000000..\\\\4.47213595..\\end{matrix}\\right]$\n",
    "+ $\\lambda_1$固有ベクトルは $\\left[\\begin{matrix}-619030499..\\\\-619030499..\\\\4.83324408..\\end{matrix}\\right]$\n",
    "\n"
   ]
  },
  {
   "cell_type": "markdown",
   "metadata": {},
   "source": [
    "### <font color=\"red\">練習：numpy の基本</font>"
   ]
  },
  {
   "cell_type": "markdown",
   "metadata": {},
   "source": [
    "#### 次の行列をnumpy array として定義\n",
    "+ $M=\\left[\\begin{matrix}1&1&1\\\\2&3&-1\\\\0&1&2\\\\2&1&5\\end{matrix}\\right]$"
   ]
  },
  {
   "cell_type": "code",
   "execution_count": null,
   "metadata": {
    "scrolled": true
   },
   "outputs": [],
   "source": []
  },
  {
   "cell_type": "markdown",
   "metadata": {},
   "source": [
    "####  次を取り出す"
   ]
  },
  {
   "cell_type": "markdown",
   "metadata": {},
   "source": [
    "+ M の(3,2)成分$1$"
   ]
  },
  {
   "cell_type": "code",
   "execution_count": null,
   "metadata": {},
   "outputs": [],
   "source": []
  },
  {
   "cell_type": "markdown",
   "metadata": {},
   "source": [
    "+ Mの(3,2)成分  $1$"
   ]
  },
  {
   "cell_type": "code",
   "execution_count": null,
   "metadata": {},
   "outputs": [],
   "source": []
  },
  {
   "cell_type": "markdown",
   "metadata": {},
   "source": [
    "+ Mの第３列ベクトル  $\\left[\\begin{matrix}1\\\\-1\\\\2\\\\5\\end{matrix}\\right]$"
   ]
  },
  {
   "cell_type": "code",
   "execution_count": null,
   "metadata": {},
   "outputs": [],
   "source": []
  },
  {
   "cell_type": "markdown",
   "metadata": {},
   "source": [
    "+ Mの第３行ベクトル  $[0,1,2]$"
   ]
  },
  {
   "cell_type": "code",
   "execution_count": null,
   "metadata": {},
   "outputs": [],
   "source": []
  },
  {
   "cell_type": "markdown",
   "metadata": {},
   "source": [
    "#### 転置行列\n",
    "+ $\\left[\\begin{matrix}1&2&0&2\\\\1&3&1&1\\\\1&-1&2&5\\end{matrix}\\right]$"
   ]
  },
  {
   "cell_type": "code",
   "execution_count": null,
   "metadata": {},
   "outputs": [],
   "source": []
  },
  {
   "cell_type": "markdown",
   "metadata": {},
   "source": [
    "#### 行列の積  $M$と転置行列${}^tM$の積: $M{}^tM$,  ${}^tM M$"
   ]
  },
  {
   "cell_type": "code",
   "execution_count": null,
   "metadata": {},
   "outputs": [],
   "source": []
  },
  {
   "cell_type": "markdown",
   "metadata": {},
   "source": [
    "####  $M{}^tM$ のゼロ固有ベクトル"
   ]
  },
  {
   "cell_type": "code",
   "execution_count": null,
   "metadata": {},
   "outputs": [],
   "source": []
  },
  {
   "cell_type": "markdown",
   "metadata": {},
   "source": [
    "## 図示の第一歩 plotly.express"
   ]
  },
  {
   "cell_type": "markdown",
   "metadata": {},
   "source": [
    "### 概説"
   ]
  },
  {
   "cell_type": "markdown",
   "metadata": {},
   "source": [
    "+ 点を表示\n",
    "\n",
    "    + `px.scatter(x=A,y=B)`\n",
    "    + ただし、Aは表示する点のx座標のリスト、Bは表示する点のy座標のリスト"
   ]
  },
  {
   "cell_type": "markdown",
   "metadata": {},
   "source": [
    "### 与えられた５点を表示"
   ]
  },
  {
   "cell_type": "code",
   "execution_count": null,
   "metadata": {},
   "outputs": [],
   "source": [
    "import plotly.express as px\n",
    "px.scatter(x=D[:,0],y=D[:,1])"
   ]
  },
  {
   "cell_type": "markdown",
   "metadata": {},
   "source": [
    "### <font color=\"red\">練習. 次の点を表示せよ.</font>\n",
    "+ 整数点 $\\{[i,j] | 0\\leq i,j\\leq 4\\}$  \n",
    "\n",
    "+ ヒント.`[[i,j] for i in range(5) for j in range(5)]` は、求める点の座標のリスト"
   ]
  },
  {
   "cell_type": "code",
   "execution_count": null,
   "metadata": {},
   "outputs": [],
   "source": []
  },
  {
   "cell_type": "markdown",
   "metadata": {},
   "source": [
    "## 行列 $D_2$の計算"
   ]
  },
  {
   "cell_type": "markdown",
   "metadata": {},
   "source": [
    "### Dの列ベクトルをx,yと置く"
   ]
  },
  {
   "cell_type": "code",
   "execution_count": null,
   "metadata": {},
   "outputs": [],
   "source": [
    "x,y=D.T"
   ]
  },
  {
   "cell_type": "markdown",
   "metadata": {},
   "source": [
    "+ $D_2$の列ベクトルは、`x**2, x*y, y**2, x, y, 1`\n",
    "+ ただし1はすべての成分が1の、5次列ベクトル. `np.ones(5)`\n",
    "+ これらを行ベクトルとする行列が `np.array([x**2,x*y,y**2,x,y,np.ones(5)])` なので、これを転置してD2を定める"
   ]
  },
  {
   "cell_type": "code",
   "execution_count": null,
   "metadata": {},
   "outputs": [],
   "source": [
    "D2=np.array([x**2,x*y,y**2,x,y,np.ones(5)]).T\n",
    "D2"
   ]
  },
  {
   "cell_type": "markdown",
   "metadata": {},
   "source": [
    "## ${}^tD_2D_2$の固有値と固有ベクトル"
   ]
  },
  {
   "cell_type": "code",
   "execution_count": null,
   "metadata": {},
   "outputs": [],
   "source": [
    "c,v=np.linalg.eig(D2.T@D2)\n",
    "c"
   ]
  },
  {
   "cell_type": "markdown",
   "metadata": {},
   "source": [
    "+ 上で第五番目の固有値`2.61802800e-15`がほぼゼロである。\n",
    "+ そこで、vの第五列ベクトル v[:,4] がゼロ固有ベクトルとなる。"
   ]
  },
  {
   "cell_type": "code",
   "execution_count": null,
   "metadata": {},
   "outputs": [],
   "source": [
    "k=v[:,4]\n",
    "k"
   ]
  },
  {
   "cell_type": "markdown",
   "metadata": {},
   "source": [
    "+ 検算. $D_2$のゼロ固有ベクトルであることを調べる."
   ]
  },
  {
   "cell_type": "code",
   "execution_count": null,
   "metadata": {
    "scrolled": false
   },
   "outputs": [],
   "source": [
    "D2@k"
   ]
  },
  {
   "cell_type": "markdown",
   "metadata": {},
   "source": [
    "+ どの成分も、小数点以下14位までゼロとなっているので、0固有ベクトルと考えて良い。"
   ]
  },
  {
   "cell_type": "code",
   "execution_count": null,
   "metadata": {},
   "outputs": [],
   "source": [
    "for u in D2@k:\n",
    "    print(\"{:30.25f}\".format(u))"
   ]
  },
  {
   "cell_type": "markdown",
   "metadata": {},
   "source": [
    "## 結果の図示"
   ]
  },
  {
   "cell_type": "markdown",
   "metadata": {},
   "source": [
    "+ $f(x,y)=0$を描くには、$f$の等高線図（contour plot )を利用する。"
   ]
  },
  {
   "cell_type": "markdown",
   "metadata": {},
   "source": [
    "### 求められた二次曲線の表示"
   ]
  },
  {
   "cell_type": "code",
   "execution_count": null,
   "metadata": {
    "scrolled": false
   },
   "outputs": [],
   "source": [
    "import plotly.graph_objects as go\n",
    "\n",
    "# 次は0.1刻みのx座標,y座標用意 \n",
    "feature_x = np.arange(-5, 5, 0.1)\n",
    "feature_y = np.arange(-5, 5, 0.1)\n",
    "\n",
    "# 次で、それを組み合わせて格子点を設定\n",
    "[x, y] = np.meshgrid(feature_x, feature_y)\n",
    " \n",
    "# 次が等高線の高さを指定\n",
    "Z= k[0]*x**2 +k[1]*x*y + k[2]*y**2 + k[3]*x+ k[4]*y + k[5]\n",
    " \n",
    "# グラフィックオブジェクト を生成しfig と名づける\n",
    "fig = go.Figure(data=go.Contour(\n",
    "    x=feature_x, y=feature_y, z=Z,\n",
    "    colorscale=\"oranges\",\n",
    "    contours=dict(\n",
    "        start=0, # 等高線の高さの最小値\n",
    "        end=0,    # 等高線の高さの最大値\n",
    "        size=1, # 描く間隔\n",
    "        coloring='lines',\n",
    "        showlabels=True\n",
    "    )\n",
    "))\n",
    "fig.add_trace(go.Scatter(x=D[:,0], y=D[:,1], name=\"D\",mode=\"markers\")) # 与えられた５点を表示\n",
    "fig.update_yaxes(scaleanchor=\"x\", scaleratio=1)  # xy軸のスケールを同じにする\n",
    "fig.show()  # 表示する"
   ]
  },
  {
   "cell_type": "markdown",
   "metadata": {},
   "source": [
    "### 参考：等高線を表示"
   ]
  },
  {
   "cell_type": "code",
   "execution_count": null,
   "metadata": {
    "scrolled": false
   },
   "outputs": [],
   "source": [
    "import plotly.graph_objects as go\n",
    "\n",
    "# 次は0.1刻みのx座標,y座標用意 \n",
    "feature_x = np.arange(-5, 5, 0.1)\n",
    "feature_y = np.arange(-5, 5, 0.1)\n",
    "\n",
    "# 次で、それを組み合わせて格子点を設定\n",
    "[x, y] = np.meshgrid(feature_x, feature_y)\n",
    " \n",
    "# 次が等高線の高さを指定\n",
    "Z= k[0]*x**2 +k[1]*x*y + k[2]*y**2 + k[3]*x+ k[4]*y + k[5]\n",
    " \n",
    "# グラフィックオブジェクト を生成しfig と名づける\n",
    "fig = go.Figure(data=go.Contour(\n",
    "    x=feature_x, y=feature_y, z=Z,\n",
    "    contours=dict(\n",
    "        start=-5, # 等高線の高さの最小値\n",
    "        end=5,    # 等高線の高さの最大値\n",
    "        size=1, # 描く間隔\n",
    "        coloring='lines',\n",
    "        showlabels=True\n",
    "    )\n",
    "))\n",
    "fig.add_trace(go.Scatter(x=D[:,0], y=D[:,1], name=\"D\",mode=\"markers\")) # 与えられた５点を表示\n",
    "fig.update_yaxes(scaleanchor=\"x\", scaleratio=1)  # xy軸のスケールを同じにする\n",
    "fig.show()  # 表示する"
   ]
  },
  {
   "cell_type": "markdown",
   "metadata": {},
   "source": [
    "## 以上をまとめると"
   ]
  },
  {
   "cell_type": "markdown",
   "metadata": {},
   "source": [
    "### データを定義し表示"
   ]
  },
  {
   "cell_type": "code",
   "execution_count": null,
   "metadata": {},
   "outputs": [],
   "source": [
    "D=np.array([[ 0, -1],[-1,  1],[ 2,  2],[-3, -3],[-2,  2]])\n",
    "import plotly.express as px\n",
    "px.scatter(x=D[:,0],y=D[:,1])"
   ]
  },
  {
   "cell_type": "markdown",
   "metadata": {},
   "source": [
    "### 係数 kを求める"
   ]
  },
  {
   "cell_type": "code",
   "execution_count": null,
   "metadata": {},
   "outputs": [],
   "source": [
    "x,y=D.T\n",
    "D2=np.array([x**2,x*y,y**2,x,y,np.ones(5)]).T\n",
    "c,v=np.linalg.eig(D2.T@D2)\n",
    "print(c)"
   ]
  },
  {
   "cell_type": "markdown",
   "metadata": {},
   "source": [
    "+ 上で第i=4番目の固有値がほぼゼロなので、k=v[:,i-1] "
   ]
  },
  {
   "cell_type": "code",
   "execution_count": null,
   "metadata": {},
   "outputs": [],
   "source": [
    "k=v[:,4]"
   ]
  },
  {
   "cell_type": "markdown",
   "metadata": {},
   "source": [
    "### 与えられた点と二次曲線を表示"
   ]
  },
  {
   "cell_type": "code",
   "execution_count": null,
   "metadata": {
    "scrolled": true
   },
   "outputs": [],
   "source": [
    "import plotly.graph_objects as go\n",
    "feature_x = np.arange(-5, 5, 0.1)\n",
    "feature_y = np.arange(-5, 5, 0.1)\n",
    "[x, y] = np.meshgrid(feature_x, feature_y)\n",
    "Z= k[0]*x**2 +k[1]*x*y + k[2]*y**2 + k[3]*x+ k[4]*y + k[5]\n",
    "fig = go.Figure(data=go.Contour(\n",
    "    x=feature_x, y=feature_y, z=Z,\n",
    "    colorscale=\"oranges\",\n",
    "    contours=dict(\n",
    "        start=0, # 等高線の高さの最小値\n",
    "        end=0,    # 等高線の高さの最大値\n",
    "        size=1, # 描く間隔\n",
    "        coloring='lines',\n",
    "        showlabels=True\n",
    "    )\n",
    "))\n",
    "fig.add_trace(go.Scatter(x=D[:,0], y=D[:,1], name=\"D\",mode=\"markers\")) # 与えられた５点を表示\n",
    "fig.update_yaxes(scaleanchor=\"x\", scaleratio=1)  # xy軸のスケールを同じにする\n",
    "fig.show()  # 表示する"
   ]
  },
  {
   "cell_type": "markdown",
   "metadata": {},
   "source": [
    "# <font color=\"red\">演習1. 次で与えられる５点を通る二次曲線を求めよ</font>"
   ]
  },
  {
   "cell_type": "code",
   "execution_count": null,
   "metadata": {
    "scrolled": true
   },
   "outputs": [],
   "source": [
    "D=np.array([np.random.randint(-3,3) for i in range(10)]).reshape(5,2)\n",
    "print(D)"
   ]
  },
  {
   "cell_type": "markdown",
   "metadata": {},
   "source": [
    "## ５点を図示"
   ]
  },
  {
   "cell_type": "code",
   "execution_count": null,
   "metadata": {},
   "outputs": [],
   "source": []
  },
  {
   "cell_type": "markdown",
   "metadata": {},
   "source": [
    "## 係数 kを求める"
   ]
  },
  {
   "cell_type": "code",
   "execution_count": null,
   "metadata": {},
   "outputs": [],
   "source": []
  },
  {
   "cell_type": "markdown",
   "metadata": {},
   "source": [
    "## 与えられた点と二次曲線を表示"
   ]
  },
  {
   "cell_type": "code",
   "execution_count": null,
   "metadata": {},
   "outputs": [],
   "source": []
  },
  {
   "cell_type": "markdown",
   "metadata": {},
   "source": [
    "# <font color=\"green\">問題[2] N(>5)点を近似する二次曲線を求めよ</font>"
   ]
  },
  {
   "cell_type": "code",
   "execution_count": null,
   "metadata": {},
   "outputs": [],
   "source": [
    "import numpy as np\n",
    "D=np.array([[ 0, -1],[-1,  1],[ 2,  2],[-3, -3],[-2,  2],[3,2]])\n",
    "print(D)"
   ]
  },
  {
   "cell_type": "markdown",
   "metadata": {},
   "source": [
    "+ 問題. $\\varepsilon:=\\sum_{0\\leq i<N} f_{\\mathbf k}(x_i,y_i)^2$ が最小となるような$k$を求めよ($N=6$)"
   ]
  },
  {
   "cell_type": "markdown",
   "metadata": {},
   "source": [
    "## 求め方の数学的説明"
   ]
  },
  {
   "cell_type": "markdown",
   "metadata": {},
   "source": [
    "+ 要点\n",
    "    + $\\varepsilon=||D_2{\\mathbf k}||^2=({}^tD_2D_2{\\mathbf k},{\\mathbf k})$ となる\n",
    "    + これは対称行列 $B={}^tD_2D_2$に対応する二次形式.\n",
    "    + 従って、$||\\mathbf k||=\\sqrt{\\sum_i k_i^2}=1$を満たす${\\mathbf k}$の中で$\\varepsilon$の最小値を与える${\\mathbf k}$は、$B$の最小固有値に対応する固有ベクトル\n",
    "    \n",
    "+ もう少し詳しい説明が次の動画にあります：\n",
    "\n",
    "https://ritsumei.ap.panopto.com/Panopto/Pages/Viewer.aspx?id=729ec063-982a-4a32-a354-ad0100e00acd&start=0"
   ]
  },
  {
   "cell_type": "markdown",
   "metadata": {},
   "source": [
    "## python による計算の要点"
   ]
  },
  {
   "cell_type": "markdown",
   "metadata": {},
   "source": [
    "+ $N=5$の場合の計算とほぼ同じ. \n",
    "+ 最後で${}^tD_2D_2$の最小固有値に対する固有ベクトルを求めれば良い.\n",
    "    + 変わるところは$D$が $N\\times 2$行列となること\n",
    "    + np.ones(5)としたところは、np.ones(N)となる。"
   ]
  },
  {
   "cell_type": "markdown",
   "metadata": {},
   "source": [
    "### データを表示"
   ]
  },
  {
   "cell_type": "code",
   "execution_count": null,
   "metadata": {},
   "outputs": [],
   "source": [
    "import plotly.express as px\n",
    "px.scatter(x=D[:,0],y=D[:,1])"
   ]
  },
  {
   "cell_type": "markdown",
   "metadata": {},
   "source": [
    "### 二次曲線の係数 kを求める"
   ]
  },
  {
   "cell_type": "code",
   "execution_count": null,
   "metadata": {},
   "outputs": [],
   "source": [
    "N=6\n",
    "x,y=D.T\n",
    "D2=np.array([x**2,x*y,y**2,x,y,np.ones(N)]).T\n",
    "c,v=np.linalg.eig(D2.T@D2)\n",
    "print(c)"
   ]
  },
  {
   "cell_type": "markdown",
   "metadata": {},
   "source": [
    "+ 最小固有値は最後の固有値. 従って、k=v[:,-1]"
   ]
  },
  {
   "cell_type": "code",
   "execution_count": null,
   "metadata": {},
   "outputs": [],
   "source": [
    "k=v[:,-1]\n",
    "k"
   ]
  },
  {
   "cell_type": "markdown",
   "metadata": {},
   "source": [
    "###  与えられた点と二次曲線を表示  "
   ]
  },
  {
   "cell_type": "code",
   "execution_count": null,
   "metadata": {
    "scrolled": true
   },
   "outputs": [],
   "source": [
    "import plotly.graph_objects as go\n",
    "feature_x = np.arange(-5, 5, 0.1)\n",
    "feature_y = np.arange(-5, 5, 0.1)\n",
    "[x, y] = np.meshgrid(feature_x, feature_y)\n",
    "Z= k[0]*x**2 +k[1]*x*y + k[2]*y**2 + k[3]*x+ k[4]*y + k[5]\n",
    "fig = go.Figure(data=go.Contour(\n",
    "    x=feature_x, y=feature_y, z=Z,\n",
    "    colorscale=\"oranges\",\n",
    "    contours=dict(\n",
    "        start=0, # 等高線の高さの最小値\n",
    "        end=0,    # 等高線の高さの最大値\n",
    "        size=1, # 描く間隔\n",
    "        coloring='lines',\n",
    "        showlabels=True\n",
    "    )\n",
    "))\n",
    "fig.add_trace(go.Scatter(x=D[:,0], y=D[:,1], name=\"D\",mode=\"markers\")) # 与えられた５点を表示\n",
    "fig.update_yaxes(scaleanchor=\"x\", scaleratio=1)  # xy軸のスケールを同じにする\n",
    "fig.show()  # 表示する"
   ]
  },
  {
   "cell_type": "markdown",
   "metadata": {},
   "source": [
    "## N=100 の場合"
   ]
  },
  {
   "cell_type": "markdown",
   "metadata": {},
   "source": [
    "+ np.random.rand()は [0,1]区間の実数を一様分布に従ってランダムに生成\n",
    "+ 成分数が $pq$の numpy array A に対し A.reshape(p,q)は Aを (p,q)型の行列の変形"
   ]
  },
  {
   "cell_type": "code",
   "execution_count": null,
   "metadata": {},
   "outputs": [],
   "source": [
    "N=100\n",
    "D=np.array([2*np.random.rand()-1 for i in range(2*N)]).reshape((N,2))\n",
    "#Dの最初の10行を表示\n",
    "D[:10]"
   ]
  },
  {
   "cell_type": "markdown",
   "metadata": {},
   "source": [
    "### データを表示"
   ]
  },
  {
   "cell_type": "code",
   "execution_count": null,
   "metadata": {
    "scrolled": false
   },
   "outputs": [],
   "source": [
    "import plotly.express as px\n",
    "px.scatter(x=D[:,0],y=D[:,1])"
   ]
  },
  {
   "cell_type": "markdown",
   "metadata": {},
   "source": [
    "### 二次曲線の係数 kを求める"
   ]
  },
  {
   "cell_type": "code",
   "execution_count": null,
   "metadata": {
    "scrolled": true
   },
   "outputs": [],
   "source": [
    "x,y=D.T\n",
    "D2=np.array([x**2,x*y,y**2,x,y,np.ones(N)]).T\n",
    "c,v=np.linalg.eig(D2.T@D2)\n",
    "print(c)"
   ]
  },
  {
   "cell_type": "markdown",
   "metadata": {},
   "source": [
    "+ 最小固有値は最後の固有値. 従って、k=v[:,-1]"
   ]
  },
  {
   "cell_type": "code",
   "execution_count": null,
   "metadata": {},
   "outputs": [],
   "source": [
    "k=v[:,-1]\n",
    "k"
   ]
  },
  {
   "cell_type": "markdown",
   "metadata": {},
   "source": [
    "###  与えられた点と近似二次曲線を表示  "
   ]
  },
  {
   "cell_type": "code",
   "execution_count": null,
   "metadata": {},
   "outputs": [],
   "source": [
    "import plotly.graph_objects as go\n",
    "feature_x = np.arange(-5, 5, 0.1)\n",
    "feature_y = np.arange(-5, 5, 0.1)\n",
    "[x, y] = np.meshgrid(feature_x, feature_y)\n",
    "Z= k[0]*x**2 +k[1]*x*y + k[2]*y**2 + k[3]*x+ k[4]*y + k[5]\n",
    "fig = go.Figure(data=go.Contour(\n",
    "    x=feature_x, y=feature_y, z=Z,\n",
    "    colorscale=\"oranges\",\n",
    "    contours=dict(\n",
    "        start=0, # 等高線の高さの最小値\n",
    "        end=0,    # 等高線の高さの最大値\n",
    "        size=1, # 描く間隔\n",
    "        coloring='lines',\n",
    "        showlabels=True\n",
    "    )\n",
    "))\n",
    "fig.add_trace(go.Scatter(x=D[:,0], y=D[:,1], name=\"D\",mode=\"markers\")) # 与えられた５点を表示\n",
    "fig.update_yaxes(scaleanchor=\"x\", scaleratio=1)  # xy軸のスケールを同じにする\n",
    "fig.show()  # 表示する"
   ]
  },
  {
   "cell_type": "markdown",
   "metadata": {},
   "source": [
    "## 二次曲線に近い点集合の場合"
   ]
  },
  {
   "cell_type": "code",
   "execution_count": null,
   "metadata": {},
   "outputs": [],
   "source": [
    "import numpy as np\n",
    "N=1000\n",
    "D=np.array([[4*np.random.rand()-2 for i in range(2)] for j in range(N)])\n",
    "## x^2-xy+y^2=1 に近い点だけ抜き出す\n",
    "D=np.array([u for u in D if np.abs(u[0]**2-u[0]*u[1]+u[1]**2-1)<0.2])\n",
    "print(D.shape)"
   ]
  },
  {
   "cell_type": "markdown",
   "metadata": {},
   "source": [
    "### データを表示"
   ]
  },
  {
   "cell_type": "code",
   "execution_count": null,
   "metadata": {
    "scrolled": true
   },
   "outputs": [],
   "source": [
    "import plotly.express as px\n",
    "px.scatter(x=D[:,0],y=D[:,1])"
   ]
  },
  {
   "cell_type": "markdown",
   "metadata": {},
   "source": [
    "### 二次曲線の係数 kを求める"
   ]
  },
  {
   "cell_type": "code",
   "execution_count": null,
   "metadata": {
    "scrolled": false
   },
   "outputs": [],
   "source": [
    "x,y=D.T\n",
    "N=len(x)\n",
    "D2=np.array([x**2,x*y,y**2,x,y,np.ones(N)]).T\n",
    "c,v=np.linalg.eig(D2.T@D2)\n",
    "print(c)"
   ]
  },
  {
   "cell_type": "markdown",
   "metadata": {},
   "source": [
    "+ 最小固有値はc[2] . 従って、k=v[:,2]"
   ]
  },
  {
   "cell_type": "code",
   "execution_count": null,
   "metadata": {},
   "outputs": [],
   "source": [
    "k=v[:,2]\n",
    "k"
   ]
  },
  {
   "cell_type": "markdown",
   "metadata": {},
   "source": [
    "###  与えられた点と近似二次曲線を表示  "
   ]
  },
  {
   "cell_type": "code",
   "execution_count": null,
   "metadata": {},
   "outputs": [],
   "source": [
    "import plotly.graph_objects as go\n",
    "feature_x = np.arange(-5, 5, 0.1)\n",
    "feature_y = np.arange(-5, 5, 0.1)\n",
    "[x, y] = np.meshgrid(feature_x, feature_y)\n",
    "Z= k[0]*x**2 +k[1]*x*y + k[2]*y**2 + k[3]*x+ k[4]*y + k[5]\n",
    "fig = go.Figure(data=go.Contour(\n",
    "    x=feature_x, y=feature_y, z=Z,\n",
    "    colorscale=\"oranges\",\n",
    "    contours=dict(\n",
    "        start=0, # 等高線の高さの最小値\n",
    "        end=0,    # 等高線の高さの最大値\n",
    "        size=1, # 描く間隔\n",
    "        coloring='lines',\n",
    "        showlabels=True\n",
    "    )\n",
    "))\n",
    "fig.add_trace(go.Scatter(x=D[:,0], y=D[:,1], name=\"D\",mode=\"markers\")) # 与えられた５点を表示\n",
    "fig.update_yaxes(scaleanchor=\"x\", scaleratio=1)  # xy軸のスケールを同じにする\n",
    "fig.show()  # 表示する"
   ]
  },
  {
   "cell_type": "markdown",
   "metadata": {},
   "source": [
    "# <font color=\"red\">演習2. 次で与えられる点を近似する二次曲線を求めよ</font>"
   ]
  },
  {
   "cell_type": "code",
   "execution_count": null,
   "metadata": {},
   "outputs": [],
   "source": [
    "D=np.array([[0,1],[1,1],[0,1],[-1,1],[-1,0],[-1,-1],[0,-1],[1,-1]])"
   ]
  },
  {
   "cell_type": "markdown",
   "metadata": {},
   "source": [
    "## データを表示"
   ]
  },
  {
   "cell_type": "code",
   "execution_count": null,
   "metadata": {},
   "outputs": [],
   "source": []
  },
  {
   "cell_type": "markdown",
   "metadata": {},
   "source": [
    "## 二次曲線の係数 kを求める"
   ]
  },
  {
   "cell_type": "code",
   "execution_count": null,
   "metadata": {},
   "outputs": [],
   "source": []
  },
  {
   "cell_type": "markdown",
   "metadata": {},
   "source": [
    "##  与えられた点と近似二次曲線を表示  "
   ]
  },
  {
   "cell_type": "code",
   "execution_count": null,
   "metadata": {},
   "outputs": [],
   "source": []
  },
  {
   "cell_type": "markdown",
   "metadata": {},
   "source": [
    "# <font color=\"green\">問題[3].  与えられたN点を近似する平面三次曲線を求めよ"
   ]
  },
  {
   "cell_type": "markdown",
   "metadata": {},
   "source": [
    "+ 方程式は $x^3,x^2y,xy^2,y^3,x^2,xy,y^2,x,y,1$の一次結合なので $N\\leq9$なら、N個の点を通るものがある\n",
    "\n",
    "+ $f_{\\mathbf k}(x,y)=k_0x^3+k_1x^2y+k_2xy^2+k_3y^3+k_4x^2+k_5xy+k_6y^2+k_7x+k_8y+k_9$は\n",
    "\n",
    "    $f_{\\mathbf k}(x,y)=[x^3,x^2y,xy^2,y^3,x^2,xy,y^2,x,y,1]\\left[\\begin{matrix}k_0\\\\k_1\\\\k_2\\\\k_3\\\\k_4\\\\k_5\\\\k_6\\\\k_7\\\\k_8\\\\k_9\\end{matrix}\\right]$\n",
    "    \n",
    "    \n",
    "と書ける. \n",
    "\n",
    "+ 従って`D3=np.array([x**3,x**2*y,x*y**2,y**3,x**2,x*y,y**2,x,y,np.ones(N)]`　と定めたあとは、今までのD2をD3に置き換えて処理すれば良い。"
   ]
  },
  {
   "cell_type": "markdown",
   "metadata": {},
   "source": [
    "## 一つの例"
   ]
  },
  {
   "cell_type": "code",
   "execution_count": null,
   "metadata": {},
   "outputs": [],
   "source": [
    "import numpy as np\n",
    "D=np.array([[ 2,  1],[-3, -2],[ 2, -2], [ 1, -1], [-1, -1], [ 1,  0],[-2, -1],[ 2,  2], [-3,  2]])"
   ]
  },
  {
   "cell_type": "markdown",
   "metadata": {},
   "source": [
    "### データを表示"
   ]
  },
  {
   "cell_type": "code",
   "execution_count": null,
   "metadata": {},
   "outputs": [],
   "source": [
    "import plotly.express as px\n",
    "px.scatter(x=D[:,0],y=D[:,1])"
   ]
  },
  {
   "cell_type": "markdown",
   "metadata": {},
   "source": [
    "### 3次曲線の係数 kを求める"
   ]
  },
  {
   "cell_type": "code",
   "execution_count": null,
   "metadata": {
    "scrolled": true
   },
   "outputs": [],
   "source": [
    "N=len(D)\n",
    "x,y=D.T\n",
    "D3=np.array([x**3,x**2*y,x*y**2,y**3,x**2,x*y,y**2,x,y,np.ones(N)]).T\n",
    "DD=D3.T@D3\n",
    "c,v=np.linalg.eig(DD)\n",
    "print(c)"
   ]
  },
  {
   "cell_type": "code",
   "execution_count": null,
   "metadata": {},
   "outputs": [],
   "source": [
    "for u in c:\n",
    "    print(\"{:15.10f}\".format(u))"
   ]
  },
  {
   "cell_type": "markdown",
   "metadata": {},
   "source": [
    "+ c[-2] がゼロなので、k=v[:,-2]"
   ]
  },
  {
   "cell_type": "code",
   "execution_count": null,
   "metadata": {},
   "outputs": [],
   "source": [
    "k=v[:,-2]\n",
    "k"
   ]
  },
  {
   "cell_type": "markdown",
   "metadata": {},
   "source": [
    "##  与えられた点と、それを通る３次曲線を表示  "
   ]
  },
  {
   "cell_type": "code",
   "execution_count": null,
   "metadata": {
    "scrolled": true
   },
   "outputs": [],
   "source": [
    "import plotly.graph_objects as go\n",
    "feature_x = np.arange(-5, 5, 0.1)\n",
    "feature_y = np.arange(-5, 5, 0.1)\n",
    "[x, y] = np.meshgrid(feature_x, feature_y)\n",
    "Z=k[0]*x**3 +k[1]*x**2*y + k[2]*x*y**2 + k[3]*y**3+ k[4]*x**2+k[5]*x*y+\\\n",
    "           k[6]*y**2+k[7]*x+k[8]*y+k[9]\n",
    "fig = go.Figure(data=go.Contour(\n",
    "    x=feature_x, y=feature_y, z=Z,\n",
    "    colorscale=\"oranges\",\n",
    "    contours=dict(\n",
    "        start=0, # 等高線の高さの最小値\n",
    "        end=0,    # 等高線の高さの最大値\n",
    "        size=1, # 描く間隔\n",
    "        coloring='lines',\n",
    "        showlabels=True\n",
    "    )\n",
    "))\n",
    "fig.add_trace(go.Scatter(x=D[:,0], y=D[:,1], name=\"D\",mode=\"markers\")) # 与えられた５点を表示\n",
    "fig.update_yaxes(scaleanchor=\"x\", scaleratio=1)  # xy軸のスケールを同じにする\n",
    "fig.show()  # 表示する"
   ]
  },
  {
   "cell_type": "markdown",
   "metadata": {},
   "source": [
    "## 例：ランダムな9点を通る3次曲線\n"
   ]
  },
  {
   "cell_type": "code",
   "execution_count": null,
   "metadata": {},
   "outputs": [],
   "source": [
    "D=np.array([[ 0.65496817,  0.11068715],\n",
    "       [-0.63843015,  0.70031378],\n",
    "       [ 0.73863568,  0.56640661],\n",
    "       [ 0.2906843 , -0.42361155],\n",
    "       [-0.69330174, -0.18306998],\n",
    "       [-0.4347786 , -0.30413036],\n",
    "       [-0.31830358, -0.98844777],\n",
    "       [ 0.53587493,  0.85096663],\n",
    "       [-0.11734326,  0.07868861]])"
   ]
  },
  {
   "cell_type": "markdown",
   "metadata": {},
   "source": [
    "### データを表示"
   ]
  },
  {
   "cell_type": "code",
   "execution_count": null,
   "metadata": {
    "scrolled": true
   },
   "outputs": [],
   "source": [
    "import plotly.express as px\n",
    "px.scatter(x=D[:,0],y=D[:,1])"
   ]
  },
  {
   "cell_type": "markdown",
   "metadata": {},
   "source": [
    "### 3次曲線の係数 kを求める"
   ]
  },
  {
   "cell_type": "code",
   "execution_count": null,
   "metadata": {
    "scrolled": true
   },
   "outputs": [],
   "source": [
    "N=len(D)\n",
    "x,y=D.T\n",
    "D3=np.array([x**3,x**2*y,x*y**2,y**3,x**2,x*y,y**2,x,y,np.ones(N)]).T\n",
    "DD=D3.T@D3\n",
    "c,v=np.linalg.eig(DD)\n",
    "for u in c:\n",
    "    print(\"{:15.10f}\".format(u))"
   ]
  },
  {
   "cell_type": "markdown",
   "metadata": {},
   "source": [
    "+ c[-3] がゼロなので、k=v[:,-3]"
   ]
  },
  {
   "cell_type": "code",
   "execution_count": null,
   "metadata": {},
   "outputs": [],
   "source": [
    "k=v[:,-3]\n",
    "k"
   ]
  },
  {
   "cell_type": "markdown",
   "metadata": {},
   "source": [
    "###  与えられた点と、それを通る３次曲線を表示  "
   ]
  },
  {
   "cell_type": "code",
   "execution_count": null,
   "metadata": {
    "scrolled": true
   },
   "outputs": [],
   "source": [
    "import plotly.graph_objects as go\n",
    "feature_x = np.arange(-5, 5, 0.1)\n",
    "feature_y = np.arange(-5, 5, 0.1)\n",
    "[x, y] = np.meshgrid(feature_x, feature_y)\n",
    "Z=k[0]*x**3 +k[1]*x**2*y + k[2]*x*y**2 + k[3]*y**3+ k[4]*x**2+k[5]*x*y+\\\n",
    "           k[6]*y**2+k[7]*x+k[8]*y+k[9]\n",
    "fig = go.Figure(data=go.Contour(\n",
    "    x=feature_x, y=feature_y, z=Z,\n",
    "    colorscale=\"oranges\",\n",
    "    contours=dict(\n",
    "        start=0, # 等高線の高さの最小値\n",
    "        end=0,    # 等高線の高さの最大値\n",
    "        size=1, # 描く間隔\n",
    "        coloring='lines',\n",
    "        showlabels=True\n",
    "    )\n",
    "))\n",
    "fig.add_trace(go.Scatter(x=D[:,0], y=D[:,1], name=\"D\",mode=\"markers\")) # 与えられた５点を表示\n",
    "fig.update_yaxes(scaleanchor=\"x\", scaleratio=1)  # xy軸のスケールを同じにする\n",
    "fig.show()  # 表示する"
   ]
  },
  {
   "cell_type": "markdown",
   "metadata": {},
   "source": [
    "## 10点を近似する三次曲線"
   ]
  },
  {
   "cell_type": "code",
   "execution_count": null,
   "metadata": {},
   "outputs": [],
   "source": [
    "D=np.array([2*np.random.random()-1 for i in range(20)]).reshape(10,2)\n",
    "D"
   ]
  },
  {
   "cell_type": "markdown",
   "metadata": {},
   "source": [
    "### データを表示"
   ]
  },
  {
   "cell_type": "code",
   "execution_count": null,
   "metadata": {},
   "outputs": [],
   "source": [
    "import plotly.express as px\n",
    "px.scatter(x=D[:,0],y=D[:,1])"
   ]
  },
  {
   "cell_type": "markdown",
   "metadata": {},
   "source": [
    "### 近似3次曲線の係数 kを求める"
   ]
  },
  {
   "cell_type": "code",
   "execution_count": null,
   "metadata": {
    "scrolled": false
   },
   "outputs": [],
   "source": [
    "N=len(D)\n",
    "x,y=D.T\n",
    "D3=np.array([x**3,x**2*y,x*y**2,y**3,x**2,x*y,y**2,x,y,np.ones(N)]).T\n",
    "DD=D3.T@D3\n",
    "c,v=np.linalg.eig(DD)\n",
    "for u in c:\n",
    "    print(\"{:15.10f}\".format(u))"
   ]
  },
  {
   "cell_type": "markdown",
   "metadata": {},
   "source": [
    "+ 最小固有値が `c[-2]`なので"
   ]
  },
  {
   "cell_type": "code",
   "execution_count": null,
   "metadata": {},
   "outputs": [],
   "source": [
    "k=v[:,-2]\n",
    "k"
   ]
  },
  {
   "cell_type": "markdown",
   "metadata": {},
   "source": [
    "###  与えられた点と、それを通る３次曲線を表示  "
   ]
  },
  {
   "cell_type": "code",
   "execution_count": null,
   "metadata": {
    "scrolled": true
   },
   "outputs": [],
   "source": [
    "import plotly.graph_objects as go\n",
    "feature_x = np.arange(-5, 5, 0.1)\n",
    "feature_y = np.arange(-5, 5, 0.1)\n",
    "[x, y] = np.meshgrid(feature_x, feature_y)\n",
    "Z=k[0]*x**3 +k[1]*x**2*y + k[2]*x*y**2 + k[3]*y**3+ k[4]*x**2+k[5]*x*y+\\\n",
    "           k[6]*y**2+k[7]*x+k[8]*y+k[9]\n",
    "fig = go.Figure(data=go.Contour(\n",
    "    x=feature_x, y=feature_y, z=Z,\n",
    "    colorscale=\"oranges\",\n",
    "    contours=dict(\n",
    "        start=0, # 等高線の高さの最小値\n",
    "        end=0,    # 等高線の高さの最大値\n",
    "        size=1, # 描く間隔\n",
    "        coloring='lines',\n",
    "        showlabels=True\n",
    "    )\n",
    "))\n",
    "fig.add_trace(go.Scatter(x=D[:,0], y=D[:,1], name=\"D\",mode=\"markers\")) # 与えられた５点を表示\n",
    "fig.update_yaxes(scaleanchor=\"x\", scaleratio=1)  # xy軸のスケールを同じにする\n",
    "fig.show()  # 表示する"
   ]
  },
  {
   "cell_type": "markdown",
   "metadata": {},
   "source": [
    "# <font color=\"red\">演習3.次の１０点を近似する三次曲線を求めよ  </font>"
   ]
  },
  {
   "cell_type": "code",
   "execution_count": null,
   "metadata": {},
   "outputs": [],
   "source": [
    "a=np.random.rand()\n",
    "b=np.random.rand()\n",
    "D=np.array([[0,0],[0,1],[0,2],[1,0],[1,2],[2,0],[2,1],[2,2],[-1,-1],[2*a-1,2*b-1]])\n",
    "D"
   ]
  },
  {
   "cell_type": "markdown",
   "metadata": {},
   "source": [
    "## データを表示"
   ]
  },
  {
   "cell_type": "code",
   "execution_count": null,
   "metadata": {},
   "outputs": [],
   "source": [
    "import plotly.express as px\n",
    "px.scatter(x=D[:,0],y=D[:,1])"
   ]
  },
  {
   "cell_type": "markdown",
   "metadata": {},
   "source": [
    "## 近似3次曲線の係数 kを求める"
   ]
  },
  {
   "cell_type": "code",
   "execution_count": null,
   "metadata": {
    "scrolled": true
   },
   "outputs": [],
   "source": [
    "N=len(D)\n",
    "x,y=D.T\n",
    "D3=np.array([x**3,x**2*y,x*y**2,y**3,x**2,x*y,y**2,x,y,np.ones(N)]).T\n",
    "DD=D3.T@D3\n",
    "c,v=np.linalg.eig(DD)\n",
    "for i in range(len(c)):\n",
    "    print(\"{}:{:15.10f}\".format(i,c[i]))"
   ]
  },
  {
   "cell_type": "markdown",
   "metadata": {},
   "source": [
    "+ 最小となるiをとり k=v[:,i]とおく"
   ]
  },
  {
   "cell_type": "code",
   "execution_count": null,
   "metadata": {},
   "outputs": [],
   "source": [
    "k="
   ]
  },
  {
   "cell_type": "markdown",
   "metadata": {},
   "source": [
    "##  与えられた点と、それを通る３次曲線を表示  "
   ]
  },
  {
   "cell_type": "code",
   "execution_count": null,
   "metadata": {
    "scrolled": true
   },
   "outputs": [],
   "source": [
    "import plotly.graph_objects as go\n",
    "feature_x = np.arange(-5, 5, 0.1)\n",
    "feature_y = np.arange(-5, 5, 0.1)\n",
    "[x, y] = np.meshgrid(feature_x, feature_y)\n",
    "Z=k[0]*x**3 +k[1]*x**2*y + k[2]*x*y**2 + k[3]*y**3+ k[4]*x**2+k[5]*x*y+\\\n",
    "           k[6]*y**2+k[7]*x+k[8]*y+k[9]\n",
    "fig = go.Figure(data=go.Contour(\n",
    "    x=feature_x, y=feature_y, z=Z,\n",
    "    colorscale=\"oranges\",\n",
    "    contours=dict(\n",
    "        start=0, # 等高線の高さの最小値\n",
    "        end=0,    # 等高線の高さの最大値\n",
    "        size=1, # 描く間隔\n",
    "        coloring='lines',\n",
    "        showlabels=True\n",
    "    )\n",
    "))\n",
    "fig.add_trace(go.Scatter(x=D[:,0], y=D[:,1], name=\"D\",mode=\"markers\")) # 与えられた５点を表示\n",
    "fig.update_yaxes(scaleanchor=\"x\", scaleratio=1)  # xy軸のスケールを同じにする\n",
    "fig.show()  # 表示する"
   ]
  },
  {
   "cell_type": "code",
   "execution_count": null,
   "metadata": {},
   "outputs": [],
   "source": []
  },
  {
   "cell_type": "code",
   "execution_count": null,
   "metadata": {},
   "outputs": [],
   "source": []
  }
 ],
 "metadata": {
  "kernelspec": {
   "display_name": "Python 3",
   "language": "python",
   "name": "python3"
  },
  "language_info": {
   "codemirror_mode": {
    "name": "ipython",
    "version": 3
   },
   "file_extension": ".py",
   "mimetype": "text/x-python",
   "name": "python",
   "nbconvert_exporter": "python",
   "pygments_lexer": "ipython3",
   "version": "3.8.5"
  },
  "toc": {
   "base_numbering": 1,
   "nav_menu": {},
   "number_sections": true,
   "sideBar": true,
   "skip_h1_title": false,
   "title_cell": "Table of Contents",
   "title_sidebar": "Contents",
   "toc_cell": false,
   "toc_position": {
    "height": "calc(100% - 180px)",
    "left": "10px",
    "top": "150px",
    "width": "165px"
   },
   "toc_section_display": false,
   "toc_window_display": true
  }
 },
 "nbformat": 4,
 "nbformat_minor": 4
}
