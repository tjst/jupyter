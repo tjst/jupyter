{
 "cells": [
  {
   "cell_type": "markdown",
   "metadata": {},
   "source": [
    "# 第6章数式処理ライブラリSymPy \n",
    "\n",
    "## <font color=\"red\" id=\"warn\">（重要）続きから実行する場合の注意</font>\n",
    "途中から始める場合，最初にSymPy を動かすための以下のコードを動かすこと\n",
    "(下にあるものと同一である)"
   ]
  },
  {
   "cell_type": "code",
   "execution_count": null,
   "metadata": {},
   "outputs": [],
   "source": [
    "# 途中から始める場合は，このセルを最初に実行すること\n",
    "from sympy import *\n",
    "init_session()\n",
    "%matplotlib inline"
   ]
  },
  {
   "cell_type": "markdown",
   "metadata": {},
   "source": [
    "上のセルを実行した後はどこから始めても構わない"
   ]
  },
  {
   "cell_type": "markdown",
   "metadata": {},
   "source": [
    "+ [(再掲)編集モードとコマンドモード](#modes)\n",
    "+ [ライブラリの使い方](#library)\n",
    "+ [SymPyの使い方](#sympy)\n",
    "+ [文字式の操作](#sympy-eq)\n",
    "+ [初等関数の微積分](#sympy-diffint)\n",
    "+ [方程式/不等式を解く](#sympy-solve)\n",
    "+ [グラフの描画](#sympy-plot)\n",
    "+ [極限の操作](#sympy-limit)\n",
    "+ [広義積分](#sympy-int)\n",
    "+ [約数と素数](#sympy-int)\n",
    "+ [行列の計算](#sympy-matrix)\n",
    "+ [固有値と固有べクトル](#sympy-evalue)"
   ]
  },
  {
   "cell_type": "markdown",
   "metadata": {},
   "source": [
    "## <div id=\"modes\">(再掲)編集モードとコマンドモード </div>\n",
    "Jupyter では2つのモードを使って操作を行う\n",
    "\n",
    "+ <font color=\"green\">編集モード(セルの左側が緑)</font>では，セル内にコードを入力する\n",
    "+ <font color=\"blue\">コマンドモード(セルの左側が青)</font>では，セル全体の操作を行う\n",
    "    \n",
    "キーボートの操作は慣れると便利である．\n",
    "コマンドモードで  `h` で一覧を表示することは覚えておけば良いだろう．\n",
    "\n",
    "### 共通の操作\n",
    "| 操作 | マウスでの操作 | キーボードでの操作 |\n",
    "|:--:|:--:|:--:|\n",
    "| セルの実行 | 上のアイコンから `Run` を選択 | `Ctrl+Enter` |\n",
    "| セルを実行して次のセルへ | 上のメニューの `Cell` から選択| `Shift+Enter` |\n",
    "|コマンド一覧の呼び出し| (なし) | `Ctrl+Shift+p` |\n",
    "\n",
    "\n",
    "### <font color=\"green\">編集モードでの操作(セルの左側が緑)</font>\n",
    "| 操作 | マウスでの操作 | キーボードでの操作 |\n",
    "|:--:|:--:|:--:|\n",
    "|コマンドモードへの移行 | セルの左側をクリック | `Escape`| \n",
    "|コマンドの補完| (なし) | `Tab`| \n",
    "| コード実行 | 上のアイコンから `Run` を選択 | `Shift+Enter` |\n",
    "\n",
    "### <font color=\"blue\">コマンドモードでの操作(セルの左側が青)</font>\n",
    "| 操作 | マウスでの操作 | キーボードでの操作 |\n",
    "|--|--|--|\n",
    "|編集モードへの移行 | セルの中身をクリック | `Enter`| \n",
    "|セルを `code` に変更 | 上のメニューから選択 | `y`| \n",
    "|セルを `Markdown` に変更 | 上のメニューから選択 | `m`| \n",
    "|新規セルを上(resp. 下)に挿入 | 上のメニューの `Insert` から選択 | `a` (resp. `b`)| \n",
    "|セルのコピー| 上のメニューの `Edit` から選択 | `c` |\n",
    "|セルを上(resp. 下)に貼り付け| 上のメニューの `Edit` から選択 | `v` (resp. `Shift+ v`) |\n",
    "|セルを削除| 上のメニューの `Edit` から選択 | `d d` |\n",
    "|アンドゥ| 上のメニューの `Edit` から選択 | `z` |\n",
    "|コマンド一覧の呼び出し | (なし) | `p`|\n",
    "|ヘルプの表示 | 上のメニューの `Help` から選択 | `h`|"
   ]
  },
  {
   "cell_type": "markdown",
   "metadata": {},
   "source": [
    "上のセルを実行した後はどこから始めても構わない"
   ]
  },
  {
   "cell_type": "markdown",
   "metadata": {},
   "source": [
    "## <div id=\"library\">ライブラリの使い方</div>\n",
    "\n",
    "+ 基本的には `import (ライブラリ名)`\n",
    "と指定する．これで， `(ライブラリ名).(関数などの要素)` という形でライブラリが利用できる\n",
    "+ 一度 `import` すれば，それはずっと反映される\n",
    "    + 一旦終了するまで，同じものを`import` する必要はない\n",
    "    + Kernel を再起動した場合は改めて行うこと\n",
    "+ 利用できるもの一覧は，ライブラリ名の後にピリオドを付けた後，`Tab` キーを用いると一覧表示がされる.\n",
    "\n"
   ]
  },
  {
   "cell_type": "markdown",
   "metadata": {},
   "source": [
    "### 数学ライブラリ math\n",
    "+ `import math` で利用する\n",
    "+ 円周率 `pi` や三角関数などが利用できる\n",
    "    - 先頭に `math.` をつけるのを忘れないようにすること"
   ]
  },
  {
   "cell_type": "code",
   "execution_count": null,
   "metadata": {},
   "outputs": [],
   "source": [
    "# 円周率 pi を math ライブラリから利用する\n",
    "import math\n",
    "print(math.pi) # 表示\n",
    "print(math.sin(0))"
   ]
  },
  {
   "cell_type": "markdown",
   "metadata": {},
   "source": [
    "同様にして，自然対数の底 `e` の値を表示させなさい(`math.e`)\n",
    "また，$e^\\pi$と$\\pi^e$の差を計算しなさい"
   ]
  },
  {
   "cell_type": "code",
   "execution_count": null,
   "metadata": {},
   "outputs": [],
   "source": []
  },
  {
   "cell_type": "markdown",
   "metadata": {},
   "source": [
    "---"
   ]
  },
  {
   "cell_type": "markdown",
   "metadata": {},
   "source": [
    "## <div id=\"sympy\">SymPyの使い方 </div>\n",
    "\n",
    "<font color=\"red\">注意</font> 最初に以下の3行を実行する(一部他のライブラリと重なるが，今は気にしない)\n",
    "```\n",
    "from sympy import *\n",
    "init_session()\n",
    "%matplotlib inline\n",
    "```\n",
    "これにより，以後は次が可能となる\n",
    "+ SymPy の関数を `sympy.` をつけずに利用できる\n",
    "+ $x,y,z,t$は変数として自動的に設定され，$k,m,n$は自然数，$f,g,h$は関数となる．\n",
    "+ 各セルの最後の値が数式やグラフとして表示される\n",
    "    + `print` では数式が上手く表示されないので，1行ずつ設定すること\n",
    "+ グラフが表示されるようになる"
   ]
  },
  {
   "cell_type": "markdown",
   "metadata": {},
   "source": [
    "### SymPy における主な命令一覧\n",
    "|命令| 動作|補足|\n",
    "|--|--|--|\n",
    "|`sin(a)`|$\\sin(a)$|他の三角関数も同様|\n",
    "|`log(a,b)`|$\\log_{b}a$|`b`は省略すると自然対数|\n",
    "|`exp(a)`| $e^{a}$| $e$ は `exp(1)`で指定|\n",
    "|`isprime(n)`| 素数判定| 約数が得られるわけではない|\n",
    "|`factorint(n)`| 素因数分解| 各素因数に関する重複度が得られる|\n",
    "|`simplify(f)`|数式の簡約化| `expand`や`factor`の後に行う|\n",
    "|`expand(f)`| 数式の展開| |\n",
    "|`ratsimp(f)`|部分分数展開| |\n",
    "|`factor(f)`|因数分解|できないことも当然ある|\n",
    "|`solveset(f,x)`|方程式 $f(x)=0$ の解集合|当然解けないこともある|\n",
    "|`solveset(f>0,x, domain=S.Reals)`|不等式 $f(x)>0$ の解集合|範囲を実数に設定(`domain=S.Reals`)して利用|\n",
    "|`solve([f,g],[x,y])`|$f(x,y)=g(x,y)=0$ の解|式や変数が複数の場合はこちらを使う|\n",
    "|`limit(f,x,a,dir='+')`|$\\displaystyle\\lim_{x\\to a+0}f(x)$|`dir`を指定しないと両側極限|\n",
    "|`limit(f,x,oo)`|$\\displaystyle\\lim_{x\\to \\infty}f(x)$|`oo`は$\\infty$のこと|\n",
    "|`sequence(an,(n,i,j))`|$\\{a_{n}\\}_{n=i}^{j}$|ここでの`an`は`n`の式|\n",
    "|`summation(ak,(k,a,b))`|$\\displaystyle\\sum_{k=a}^{b}a_{k}$|`a,b` は(整数の)変数でも可|\n",
    "|`diff(f,x,k)`|$\\displaystyle\\frac{\\partial^{k}}{\\partial x^{k}}f$|`k`を省略すると1階導関数|\n",
    "|`integrate(f,x)`|$\\displaystyle\\int f(x)dx$|計算できない場合も当然ある|\n",
    "|`integrate(f,(x,a,b))`|$\\displaystyle\\int_{a}^{b} f(x)dx$|非有界区間は`(x,0,oo)`などと指定できる|\n",
    "|`plot(f,(x,a,b)`|$\\{(x,f(x))\\ |\\ a\\le x\\le b\\}$ の描画|書式変更は `show=False` で一旦変数化|\n",
    "|`plot_implicit(f,(x,a,b),(y,c,d))`| $\\{(x,y)\\in[a,b]\\times[c,d]\\ |\\ f(x,y)=0\\}$ の描画|書式変更は `plot` と同様|\n",
    "|`Matrix([[a,b],[c,d]])`|$\\begin{bmatrix} a & b \\\\ c & d \\\\ \\end{bmatrix}$ | $n\\times m$行列は$n$個の長さ $m$ のリスト|\n",
    "|`M.row(i)`|行列 $M$ の第$(i+1)$行|`M`は`Matrix`で指定されたもの|\n",
    "|`M.col(i)`|行列 $M$ の第$(j+1)$列|`M`は`Matrix`で指定されたもの|\n",
    "|`M.transpose()`|行列 $M$ の転置行列|`transpose(M)`と同じ|\n",
    "|`M.inv()`|行列 $M$ の逆行列|`M**(-1)`と同じ|\n",
    "|`M.det()`|行列 $M$ の行列式|`det(M)`と同じ|\n",
    "|`M.rank()`|行列 $M$ の階数| |\n",
    "|`M.rref()`|行列 $M$ の階段形| |\n",
    "|`M.eigenvals()`|行列 $M$ の固有値||\n",
    "|`M.eigenvects()`|行列 $M$ の(右)固有ベクトル||\n",
    "|`M.diagonalize()`|行列 $M$ の対角化|対角化する行列も得られる|\n",
    "|`M.eigenvals()`|行列 $M$ の固有値||\n",
    "|`var('u,v')`|`u,v` を変数として設定|`u,v=symbols('u,v')`と同じ|\n"
   ]
  },
  {
   "cell_type": "code",
   "execution_count": null,
   "metadata": {
    "scrolled": true
   },
   "outputs": [],
   "source": [
    "# 準備\n",
    "from sympy import *\n",
    "init_session()\n",
    "%matplotlib inline"
   ]
  },
  {
   "cell_type": "markdown",
   "metadata": {},
   "source": [
    "### Sympy の基本\n",
    "+ 数学ライブラリ `math` と異なり,近似値ではなく数式として処理を行うのが大きな違いである\n",
    "+ 円周率は `pi`, 虚数単位は `I` で表す\n",
    "+ 多くの機能があるが，その具体的な説明は順に行うことにする"
   ]
  },
  {
   "cell_type": "code",
   "execution_count": null,
   "metadata": {},
   "outputs": [],
   "source": [
    "# 平方根はそのままの形で扱われる\n",
    "sqrt(2)**5"
   ]
  },
  {
   "cell_type": "code",
   "execution_count": null,
   "metadata": {},
   "outputs": [],
   "source": [
    "# 円周率 pi も近似値ではなく数式として処理される\n",
    "sin(0),sin(pi/6),sin(pi/4),sin(pi/3),sin(pi/2),tan(pi/2)"
   ]
  },
  {
   "cell_type": "code",
   "execution_count": null,
   "metadata": {},
   "outputs": [],
   "source": [
    "# オイラーの等式も計算できる\n",
    "exp(I*pi)"
   ]
  },
  {
   "cell_type": "markdown",
   "metadata": {},
   "source": [
    "### <div id=\"sympy-eq\">文字式の操作</div>\n",
    "+ 変数として設定された `x,y,z,t` については，そのまま文字式として設定できる\n",
    "    + 累乗は `**` であることに注意\n",
    "+ `expand` で展開，`factor` で因数分解を行う\n",
    "    + `factor` は常にできるとは限らない\n",
    "+ `simpify` で簡約化ができるが，これも上手く設定してくれるとは限らない"
   ]
  },
  {
   "cell_type": "code",
   "execution_count": null,
   "metadata": {},
   "outputs": [],
   "source": [
    "# 文字式の展開，因数分解\n",
    "expand((x+y)**10)"
   ]
  },
  {
   "cell_type": "code",
   "execution_count": null,
   "metadata": {},
   "outputs": [],
   "source": [
    "factor(x**8 - y**8)"
   ]
  },
  {
   "cell_type": "code",
   "execution_count": null,
   "metadata": {},
   "outputs": [],
   "source": [
    "simplify(cos(x)**2-sin(x)**2)"
   ]
  },
  {
   "cell_type": "markdown",
   "metadata": {},
   "source": [
    "### <div id=\"sympy-diffint\">初等関数の微積分</div>\n",
    "+ `diff(f,x,n)` で `n` 回の(偏)微分\n",
    "    + `n` を省略すると `1` として計算される\n",
    "+ `integrate` で積分\n",
    "    + `integrate(x**2,(x,0,1))` のように積分範囲を指定すると定積分\n",
    "    + `integrate(sin(x),x)` のように指定すると不定積分になる．\n",
    "    + 常に計算できるとは限らない(原始関数が初等関数で表すことができない関数の存在)\n"
   ]
  },
  {
   "cell_type": "code",
   "execution_count": null,
   "metadata": {},
   "outputs": [],
   "source": [
    "# 微分\n",
    "f=sin(x)*cos(y)\n",
    "diff(f,y,2)"
   ]
  },
  {
   "cell_type": "code",
   "execution_count": null,
   "metadata": {},
   "outputs": [],
   "source": [
    "# 積分\n",
    "f=x* exp(x)\n",
    "integrate(f,x)"
   ]
  },
  {
   "cell_type": "markdown",
   "metadata": {},
   "source": [
    "↓にセルを作成して作業をすること"
   ]
  },
  {
   "cell_type": "markdown",
   "metadata": {},
   "source": [
    "### <div id=\"sympy-solve\">方程式/不等式を解く</div>\n",
    "\n",
    "#### solveset\n",
    "+ `solveset((条件式),(変数),(オプション))` により，方程式の解を集合として求めることができる\n",
    "    + オプションに `domain = S.Reals` を設定することで，条件式に不等式を扱うこともできる\n",
    "    + 複数の変数について解くことはできない，その場合は次の `solve` を用いること\n"
   ]
  },
  {
   "cell_type": "code",
   "execution_count": null,
   "metadata": {},
   "outputs": [],
   "source": [
    "# solveset その1\n",
    "solveset(x**2-6*x+5,x)"
   ]
  },
  {
   "cell_type": "code",
   "execution_count": null,
   "metadata": {},
   "outputs": [],
   "source": [
    "# solveset その2\n",
    "solveset(sin(x),x) # 無限集合も扱うことができる"
   ]
  },
  {
   "cell_type": "code",
   "execution_count": null,
   "metadata": {},
   "outputs": [],
   "source": [
    "# slveset その3\n",
    "solveset(x**8-1<=0,x, domain=S.Reals) # domain=S.Reals を設定して実数の不等式を解く"
   ]
  },
  {
   "cell_type": "markdown",
   "metadata": {},
   "source": [
    "+ $ax^2+bx+c=0$ を $a$, $x$ それぞれの文字について解きなさい．\n",
    "    + `var('a,b,c')` により変数として設定してから，`solveset` を用いる\n",
    "    + `a` で解く場合と，`x` で解く場合それぞれ別々のセルで指定すること\n",
    "\n",
    "↓のセルを用いること"
   ]
  },
  {
   "cell_type": "code",
   "execution_count": null,
   "metadata": {},
   "outputs": [],
   "source": [
    "var('a,b,c') # これで変数として設定される\n",
    "#\n",
    "#\n",
    "# コードはここに書くこと\n",
    "#\n",
    "#"
   ]
  },
  {
   "cell_type": "markdown",
   "metadata": {},
   "source": [
    "#### solve\n",
    "+ `solve((条件式のリスト)],[(変数のリスト)],(オプション))` により同様に設定できる\n",
    "    + `solve` と違って，複数の変数の方程式を扱うことができる\n",
    "    + しかし，不等式を扱うことはできない\n",
    "    + こちらも，常に解が得られるとは限らない\n"
   ]
  },
  {
   "cell_type": "code",
   "execution_count": null,
   "metadata": {},
   "outputs": [],
   "source": [
    "# solve その1\n",
    "solve(x**2-6*x+5,x) # 結果は集合ではなくリスト"
   ]
  },
  {
   "cell_type": "code",
   "execution_count": null,
   "metadata": {},
   "outputs": [],
   "source": [
    "# solve その2\n",
    "solve(sin(x),x) # 全て求めるわけではない"
   ]
  },
  {
   "cell_type": "code",
   "execution_count": null,
   "metadata": {},
   "outputs": [],
   "source": [
    "# solve その3\n",
    "solve([sin(x+y),cos(y+z)],[x,z]) # 複数の式/変数で解くことができる"
   ]
  },
  {
   "cell_type": "markdown",
   "metadata": {},
   "source": [
    "+ 次の連立方程式を，`solve` により解きなさい\n",
    "\\begin{cases}\n",
    "a+b &= 12 \\\\\n",
    "b+c &= 6 \\\\\n",
    "c+a &= 29\n",
    "\\end{cases}\n",
    "↓のセルを用いること"
   ]
  },
  {
   "cell_type": "code",
   "execution_count": null,
   "metadata": {},
   "outputs": [],
   "source": [
    "var('a,b,c') # これで変数として設定される\n",
    "#\n",
    "#\n",
    "# コードはここに書くこと\n",
    "#\n",
    "#"
   ]
  },
  {
   "cell_type": "markdown",
   "metadata": {},
   "source": [
    "### <div id=\"sympy-plot\">グラフの描画</div>\n",
    "+ `plot(f,(x,a,b))` という指定により曲線 $\\{(x,f(x))\\ :\\ a\\le x\\le b\\}$ が描画できる\n",
    "+ `plot_implicit(f,(x,a,b),(y,c,d))` により集合 $\\{(x,y)\\ :\\ f(x,y)=0\\}$ が描画できる\n",
    "+ `plotting.plot_parametric(f(t),g(t),t,a,b)` により曲線 $\\{(f(t),g(t))\\ :\\ a\\le t\\le b\\}$ が描画できる\n",
    "    + `plotting` と `plot_parametric` の間は `.`(ドット)である．モジュールの構成の関係でこのように指定する必要がある \n",
    "    + これに限らず，長い関数名は途中まで入力して `Tab` で候補が表示されるのが有用である\n",
    "+ 細かな設定はあるが，ここでは `.line_style` に色が変更できることのみ紹介する\n",
    "+ とりあえずは簡単なグラフが作成できれば十分だが，興味のある者は `plot?` としてヘルプを参照しても良いだろう\n",
    "+ (参考) `plotting.plot3d` により2変数関数のグラフの3次元空間への描画ができる．\n"
   ]
  },
  {
   "cell_type": "code",
   "execution_count": null,
   "metadata": {
    "scrolled": true
   },
   "outputs": [],
   "source": [
    "# グラフの描画その1\n",
    "f=sin(x)\n",
    "p1=plot(f,(x,0,2*pi)) # plot(「関数」,(「変数」,「開始値」,「終了値」))"
   ]
  },
  {
   "cell_type": "code",
   "execution_count": null,
   "metadata": {},
   "outputs": [],
   "source": [
    "# グラフの描画その2\n",
    "f=sin(x)\n",
    "p2=plot(f,(x,0,2*pi),show=False) # 色を変えるため，一旦変数とする\n",
    "p2[0].line_color='red' # 色を変更してから表示\n",
    "p2.show()"
   ]
  },
  {
   "cell_type": "code",
   "execution_count": null,
   "metadata": {},
   "outputs": [],
   "source": [
    "# グラフの描画その3 \n",
    "p3=plot(sin(x),cos(x),(x,0,2*pi),show=False) # 複数のグラフを描画 (まだ表示させない)\n",
    "p3[0].line_color='red' # 1番目の色を赤\n",
    "p3[1].line_color='green' # 2番目の色を緑\n",
    "p3.show() # ここで表示させる"
   ]
  },
  {
   "cell_type": "code",
   "execution_count": null,
   "metadata": {},
   "outputs": [],
   "source": [
    "# グラフの描画その4 (plot_implicit)\n",
    "f=x**2+y**2-1\n",
    "p4=plot_implicit(x**2+y**2-1,(x,-2,2),(y,-2,2),show=False)\n",
    "p4[0].line_color='black'\n",
    "p4.show()"
   ]
  },
  {
   "cell_type": "code",
   "execution_count": null,
   "metadata": {},
   "outputs": [],
   "source": [
    "# グラフの描画その5 (plotting.plot_parametric)\n",
    "i,j = 1,2 # ここの値を変えて様子を観察しなさい\n",
    "p5 = plotting.plot_parametric(cos(i*t),sin(j*t),(t,0,2*pi))"
   ]
  },
  {
   "cell_type": "code",
   "execution_count": null,
   "metadata": {},
   "outputs": [],
   "source": [
    "# (参考)3次元グラフの描画\n",
    "plotting.plot3d(x**2-y**2,x*y,(x,-1,1),(y,-1,1))"
   ]
  },
  {
   "cell_type": "markdown",
   "metadata": {},
   "source": [
    "### <div id=\"sympy-limit\">極限に関する計算</div>\n",
    "+ `limit(f,x,a)` により $\\displaystyle\\lim_{x\\to a}f(x)$ を計算できる\n",
    "    + `dir='+'` などを加えることで片側極限も指定できる\n",
    "+ `oo` (オーを2つ並べる) により $\\infty$ を用いることができる"
   ]
  },
  {
   "cell_type": "markdown",
   "metadata": {},
   "source": [
    "#### 関数の極限\n",
    "+ `limit` による極限の計算と，`plot` による描画の観察を行いなさい\n",
    "+ 最初のセルで関数 `f` を定義して，それを次のセルでも用いていることに注意\n",
    "+ 描画範囲は適宜変更しなさい"
   ]
  },
  {
   "cell_type": "code",
   "execution_count": null,
   "metadata": {},
   "outputs": [],
   "source": [
    "# 関数の極限(limit による計算)\n",
    "# limit により極限を求める(グラフは次のセルに描画する)\n",
    "f = sin(x)/x\n",
    "limit(f,x,0)"
   ]
  },
  {
   "cell_type": "code",
   "execution_count": null,
   "metadata": {},
   "outputs": [],
   "source": [
    "# 関数の極限(グラフによる観察)\n",
    "# 上で定義した関数を描画する．描画範囲は適宜変更しなさい\n",
    "p = plot(f,(x,-1,1))"
   ]
  },
  {
   "cell_type": "markdown",
   "metadata": {},
   "source": [
    "他の計算は以下のセル以降で行うこと"
   ]
  },
  {
   "cell_type": "code",
   "execution_count": null,
   "metadata": {},
   "outputs": [],
   "source": []
  },
  {
   "cell_type": "markdown",
   "metadata": {},
   "source": [
    "#### 級数の一般項と極限\n",
    "+ 一般項 `ak` について，その第 $n$ 部分和 `sn` を求める\n",
    "+ 一旦動かしてから，`ak` を変更して再実行してその結果を確認しなさい"
   ]
  },
  {
   "cell_type": "code",
   "execution_count": null,
   "metadata": {},
   "outputs": [],
   "source": [
    "ak = k;ak # 一般項 ak の定義 (;ak で結果の表示)"
   ]
  },
  {
   "cell_type": "code",
   "execution_count": null,
   "metadata": {
    "scrolled": true
   },
   "outputs": [],
   "source": [
    "sn = summation(ak,(k,1,n)); sn # 第 n 部分和 sn の定義(と表示)"
   ]
  },
  {
   "cell_type": "code",
   "execution_count": null,
   "metadata": {},
   "outputs": [],
   "source": [
    "factor(sn) # 結果を因数分解する"
   ]
  },
  {
   "cell_type": "code",
   "execution_count": null,
   "metadata": {},
   "outputs": [],
   "source": [
    "limit(sn/n**2,n,oo) # n のべき乗で割った極限を求める"
   ]
  },
  {
   "cell_type": "markdown",
   "metadata": {},
   "source": [
    "#### 広義積分\n",
    "+ `integrate` による定積分の計算で，無限大 `oo` を用いることで広義積分の計算ができる\n",
    "+ 計算ができない場合があることは同様である．様々な例に対してその値を確認しなさい"
   ]
  },
  {
   "cell_type": "code",
   "execution_count": null,
   "metadata": {},
   "outputs": [],
   "source": [
    "# 広義積分の計算\n",
    "f = 1/(x**2)\n",
    "integrate(f,(x,1,oo))"
   ]
  },
  {
   "cell_type": "code",
   "execution_count": null,
   "metadata": {},
   "outputs": [],
   "source": [
    "# (上で定義した積分について)非積分関数の描画\n",
    "p = plot(f,(x,1/10,10))"
   ]
  },
  {
   "cell_type": "markdown",
   "metadata": {},
   "source": [
    "他の計算は以下のセル以降で行うこと"
   ]
  },
  {
   "cell_type": "code",
   "execution_count": null,
   "metadata": {},
   "outputs": [],
   "source": []
  },
  {
   "cell_type": "markdown",
   "metadata": {},
   "source": [
    "### <div id=\"sympy-int\">約数と素数</div>\n",
    "+ SymPy により，素数に関する操作を行うことができる．\n",
    "+ `isprime` で素数判定ができる\n",
    "+ `factorint` により素因数分解ができる\n",
    "+ どちらも扱うことができる数には限界がある"
   ]
  },
  {
   "cell_type": "code",
   "execution_count": null,
   "metadata": {},
   "outputs": [],
   "source": [
    "N=123456789\n",
    "print(isprime(N))\n",
    "factorint(N)"
   ]
  },
  {
   "cell_type": "markdown",
   "metadata": {},
   "source": [
    "#### フェルマー数\n",
    "+ 非負整数 $n$ に対して，$F_{n}=2^{2^n}+1$ で与えられる数をフェルマー数と呼ぶ．\n",
    "+ フェルマーはフェルマー数は全て素数と考えたらしいが，それはガウスにより否定された\n",
    "+ ここでは，計算機でその様子を調べることにする\n",
    "+ <font color=\"red\">注意</font> 大きな数に対する操作は終わらない可能性がある\n",
    "    + 何気ない入力で100億年以上かかる計算命令を下すこともあり得る\n",
    "    + 終わらない場合は，上のアイコンの黒い四角(`interrupt the kernel`)を指定または `I`,`I` (`I` を2回入力) により停止指示をすること"
   ]
  },
  {
   "cell_type": "code",
   "execution_count": null,
   "metadata": {},
   "outputs": [],
   "source": [
    "# フェルマー数\n",
    "N=6 # 大きくして終わらない場合，停止命令を出すこと\n",
    "Flist = [2**(2**i)+1 for i in range(N)];Flist"
   ]
  },
  {
   "cell_type": "code",
   "execution_count": null,
   "metadata": {},
   "outputs": [],
   "source": [
    "[isprime(n) for n in Flist]"
   ]
  },
  {
   "cell_type": "code",
   "execution_count": null,
   "metadata": {},
   "outputs": [],
   "source": [
    "[factorint(n) for n in Flist]"
   ]
  },
  {
   "cell_type": "markdown",
   "metadata": {},
   "source": [
    "+ $F_{20}=2^{2^{20}}+1$ は合成数であることは知られているが，その非自明な約数は1つも知られていない．\n",
    "+ 素数判定には，ここの関数`isprime`では太刀打ちできない．フェルマー数に対して適用できる効率の良い判定法を用いている\n",
    "+ 判定は無理でも，どのぐらい大きな数であるかを調べても良いだろう．例えば，何桁の数であるかを調べるのは簡単である．"
   ]
  },
  {
   "cell_type": "markdown",
   "metadata": {},
   "source": [
    "## <div id=\"sympy-matrix\">行列の計算</div>\n",
    "+ 行列は `Matrix` を用いて定義する\n",
    "+ 配列(2重リスト)と同様の構成であるが，積や行列式等，行列に関する操作ができるようになる\n"
   ]
  },
  {
   "cell_type": "code",
   "execution_count": null,
   "metadata": {},
   "outputs": [],
   "source": [
    "M = Matrix([[1,-2,1],[-2,1,1],[1,1,0]])\n",
    "M.det() # 行列式"
   ]
  },
  {
   "cell_type": "code",
   "execution_count": null,
   "metadata": {},
   "outputs": [],
   "source": [
    "M.inv() # 逆行列"
   ]
  },
  {
   "cell_type": "code",
   "execution_count": null,
   "metadata": {},
   "outputs": [],
   "source": [
    "M.eigenvects() # 固有値と固有ベクトルの計算"
   ]
  },
  {
   "cell_type": "code",
   "execution_count": null,
   "metadata": {},
   "outputs": [],
   "source": [
    "M.rref() # 階段形"
   ]
  },
  {
   "cell_type": "markdown",
   "metadata": {},
   "source": [
    "#### 練習は以下のセルで行うこと"
   ]
  },
  {
   "cell_type": "code",
   "execution_count": null,
   "metadata": {},
   "outputs": [],
   "source": []
  },
  {
   "cell_type": "markdown",
   "metadata": {},
   "source": [
    "### 連立方程式への応用\n",
    "+ 次の連立方程式を次の2通りで解きなさい\n",
    "    + `solve` を用いる\n",
    "    + 逆行列を用いる\n",
    "\\begin{cases}\n",
    "3x-y+4z & = 7 \\\\\n",
    "2x+5y-z & = -2 \\\\\n",
    "x+3y+z &= 1\n",
    "\\end{cases}\n",
    "\n",
    "+ `solve` を用いた解法"
   ]
  },
  {
   "cell_type": "code",
   "execution_count": null,
   "metadata": {},
   "outputs": [],
   "source": []
  },
  {
   "cell_type": "markdown",
   "metadata": {},
   "source": [
    "+ 行列を用いた解法"
   ]
  },
  {
   "cell_type": "code",
   "execution_count": null,
   "metadata": {},
   "outputs": [],
   "source": []
  },
  {
   "cell_type": "markdown",
   "metadata": {},
   "source": [
    "## <div id=\"sympy-evalue\">(応用例)固有値と固有ベクトル</div>\n",
    "+ 正方行列 $A$ に対して，あるスカラー $\\lambda$ およびベクトル $x$ に\n",
    "より $$Ax=\\lambda x$$ が成り立つとき，$x$ を $A$ の固有値 $\\lambda$ に対応する固有ベクトルと呼ぶ \n",
    "+ 正方行列の固有値およびその対角化に関わる例を紹介する"
   ]
  },
  {
   "cell_type": "code",
   "execution_count": null,
   "metadata": {},
   "outputs": [],
   "source": [
    "# このセルに,A の定義を行うこと(数値を代入して指定)\n",
    "A = Matrix([[0,0,0,0],[0,0,0,0],[0,0,0,0],[0,0,0,0]]);A"
   ]
  },
  {
   "cell_type": "code",
   "execution_count": null,
   "metadata": {},
   "outputs": [],
   "source": [
    "# A の固有値を計算\n"
   ]
  },
  {
   "cell_type": "code",
   "execution_count": null,
   "metadata": {},
   "outputs": [],
   "source": [
    "# A の固有ベクトルを計算\n"
   ]
  },
  {
   "cell_type": "code",
   "execution_count": null,
   "metadata": {},
   "outputs": [],
   "source": [
    "#（上で正しく設定していればこのセルは実行するのみで良い)\n",
    "# A の対角化を計算\n",
    "P,D = A.diagonalize()\n",
    "P,D"
   ]
  },
  {
   "cell_type": "code",
   "execution_count": null,
   "metadata": {},
   "outputs": [],
   "source": [
    "#（上で正しく設定していればこのセルは実行するのみで良い)\n",
    "# P^{-1}AP の計算\n",
    "P.inv()*A*P"
   ]
  },
  {
   "cell_type": "code",
   "execution_count": null,
   "metadata": {},
   "outputs": [],
   "source": [
    "# ケーリーハミルトンの定理を確認\n",
    "# 固有値の値は各自で設定しなさい\n",
    "I = eye(4) # 単位行列を I で定義しておく\n",
    "(A-0*I)*(A-0*I)*(A-0*I)*(A-0*I) # ここを変更すること"
   ]
  },
  {
   "cell_type": "code",
   "execution_count": null,
   "metadata": {},
   "outputs": [],
   "source": []
  }
 ],
 "metadata": {
  "anaconda-cloud": {},
  "kernelspec": {
   "display_name": "Python 3",
   "language": "python",
   "name": "python3"
  },
  "language_info": {
   "codemirror_mode": {
    "name": "ipython",
    "version": 3
   },
   "file_extension": ".py",
   "mimetype": "text/x-python",
   "name": "python",
   "nbconvert_exporter": "python",
   "pygments_lexer": "ipython3",
   "version": "3.6.11"
  },
  "widgets": {
   "application/vnd.jupyter.widget-state+json": {
    "state": {},
    "version_major": 2,
    "version_minor": 0
   }
  }
 },
 "nbformat": 4,
 "nbformat_minor": 1
}
