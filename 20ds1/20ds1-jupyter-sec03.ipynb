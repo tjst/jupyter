{
 "cells": [
  {
   "cell_type": "markdown",
   "metadata": {},
   "source": [
    "# Jupyter の基本 (基本的な機能と簡単なコード)\n",
    "\n",
    "+ [編集モードとコマンドモード](#modes)\n",
    "+ [各種演算](#calc)\n",
    "+ [変数の代入](#var)\n",
    "+ [進法表記](#notations)\n",
    "+ [真偽値](#torf)\n",
    "+ [printの構文](#print)\n",
    "+ [条件分岐](#if)\n"
   ]
  },
  {
   "cell_type": "markdown",
   "metadata": {},
   "source": [
    "## <div id=\"modes\">編集モードとコマンドモード </div>\n",
    "Jupyter Notebookでは2つのモードを使って操作を行う\n",
    "\n",
    "+ <font color=\"green\">編集モード(セルの左側が緑)</font>では，セル内にコードを入力する\n",
    "+ <font color=\"blue\">コマンドモード(セルの左側が青)</font>では，セル全体の操作を行う\n",
    "    \n",
    "キーボートの操作は慣れると便利である．\n",
    "コマンドモードで  `h` で一覧を表示することは覚えておけば良いだろう．"
   ]
  },
  {
   "cell_type": "markdown",
   "metadata": {},
   "source": [
    "### 共通の操作\n",
    "| 操作 | マウスでの操作 | キーボードでの操作 |\n",
    "|:--:|:--:|:--:|\n",
    "| セルの実行 | 上のアイコンから `Run` を選択 | `Ctrl+Enter` |\n",
    "| セルを実行して次のセルへ | 上のメニューの `Cell` から選択| `Shift+Enter` |\n",
    "|コマンド一覧の呼び出し| (なし) | `Ctrl+Shift+p` |"
   ]
  },
  {
   "cell_type": "markdown",
   "metadata": {},
   "source": [
    "### <font color=\"green\">編集モードでの操作(セルの左側が緑)</font>\n",
    "| 操作 | マウスでの操作 | キーボードでの操作 |\n",
    "|:--:|:--:|:--:|\n",
    "|コマンドモードへの移行 | セルの左側をクリック | `Escape`| \n",
    "|コマンドの補完| (なし) | `Tab`| \n",
    "| コード実行 | 上のアイコンから `Run` を選択 | `Shift+Enter` |"
   ]
  },
  {
   "cell_type": "markdown",
   "metadata": {},
   "source": [
    "### <font color=\"blue\">コマンドモードでの操作(セルの左側が青)</font>\n",
    "| 操作 | マウスでの操作 | キーボードでの操作 |\n",
    "|--|--|--|\n",
    "|編集モードへの移行 | セルの中身をクリック | `Enter`| \n",
    "|セルを `code` に変更 | 上のメニューから選択 | `y`| \n",
    "|セルを `Markdown` に変更 | 上のメニューから選択 | `m`| \n",
    "|新規セルを上(resp. 下)に挿入 | 上のメニューの `Insert` から選択 | `a` (resp. `b`)| \n",
    "|セルのコピー| 上のメニューの `Edit` から選択 | `c` |\n",
    "|セルを上(resp. 下)に貼り付け| 上のメニューの `Edit` から選択 | `v` (resp. `Shift+ v`) |\n",
    "|セルを削除| 上のメニューの `Edit` から選択 | `d d` |\n",
    "|アンドゥ| 上のメニューの `Edit` から選択 | `z` |\n",
    "|コマンド一覧の呼び出し| (なし) | `p`|\n",
    "|ヘルプの表示 | 上のメニューの `Help` から選択 | `h`|"
   ]
  },
  {
   "cell_type": "markdown",
   "metadata": {},
   "source": [
    "## セルの実行と編集\n",
    "+ 以下のセルを実行/編集しなさい\n",
    "+ その下に，新規のセルを作成して，``20*20`` を入力し，実行しなさい"
   ]
  },
  {
   "cell_type": "code",
   "execution_count": null,
   "metadata": {},
   "outputs": [],
   "source": [
    "20+20"
   ]
  },
  {
   "cell_type": "markdown",
   "metadata": {},
   "source": [
    "<font color=\"blue\">コマンドモード</font>において，ここ<font size=\"20pt\">↓</font>にセルを作成すること(この場所から `b` を入力)"
   ]
  },
  {
   "cell_type": "markdown",
   "metadata": {},
   "source": [
    "<font color=\"blue\">コマンドモード</font>において，ここ<font size=\"20pt\">↑</font>にセルを作成すること(この場所から `a` を入力)"
   ]
  },
  {
   "cell_type": "markdown",
   "metadata": {},
   "source": [
    "## <div id=\"calc\"> 各種演算</div>\n",
    "\n",
    "### 整数の四則演算と余り\n",
    "\n",
    "| 和  | 差 | 積 | 除算 | 商 | 余り | 累乗 |\n",
    "|:--:|:--:|:--:|:--:|:--:|:--:|:--:|\n",
    "| `+`   | `-`  |  `*` |  `/` | `//` | `%` | `**` |\n"
   ]
  },
  {
   "cell_type": "code",
   "execution_count": null,
   "metadata": {},
   "outputs": [],
   "source": [
    "12345678*9+9"
   ]
  },
  {
   "cell_type": "code",
   "execution_count": null,
   "metadata": {},
   "outputs": [],
   "source": [
    "1234*(-9801)*(-11)"
   ]
  },
  {
   "cell_type": "code",
   "execution_count": null,
   "metadata": {},
   "outputs": [],
   "source": [
    "0.23 * 4.23"
   ]
  },
  {
   "cell_type": "code",
   "execution_count": null,
   "metadata": {},
   "outputs": [],
   "source": [
    "19**20"
   ]
  },
  {
   "cell_type": "code",
   "execution_count": null,
   "metadata": {},
   "outputs": [],
   "source": [
    "100//3,100%3"
   ]
  },
  {
   "cell_type": "markdown",
   "metadata": {},
   "source": [
    "### 四則演算(セルの作成と入力)\n",
    "次を計算せよ(<font color=\"blue\">コマンドモード</font> にて `b` によりで新たにセルを作成すること)\n",
    "- $12+24$\n",
    "- $12341234+54232435234$\n",
    "- $12\\times 24$\n",
    "- $12341234\\times 54232435234$\n",
    "- $1000$ を $17$ で割ったときの商と余り\n",
    "\n",
    "$0^0$ がどんな計算結果になるかを確認しなさい．\n",
    "\n",
    "セルはここ<font size=\"20pt\">↓</font>に作成すること"
   ]
  },
  {
   "cell_type": "markdown",
   "metadata": {},
   "source": [
    "セルはここ <font size=\"20pt\">↑</font>に作成すること\n",
    "### 小数(浮動小数点数)\n",
    "+ 小数点をつけると自動的に小数と認識される\n",
    "    - 値が整数値あっても， `3.0` などとすることで小数として扱われる\n",
    "+ 四則演算や累乗は同様である\n",
    "+ 逆に整数部のみ用いたい場合は， `int(3.2)` などとして指定する"
   ]
  },
  {
   "cell_type": "code",
   "execution_count": null,
   "metadata": {},
   "outputs": [],
   "source": [
    "1.41*1.73*1.414*1.732"
   ]
  },
  {
   "cell_type": "code",
   "execution_count": null,
   "metadata": {},
   "outputs": [],
   "source": [
    "int(3.1415)"
   ]
  },
  {
   "cell_type": "code",
   "execution_count": null,
   "metadata": {},
   "outputs": [],
   "source": [
    "int(3.1415*100)"
   ]
  },
  {
   "cell_type": "markdown",
   "metadata": {},
   "source": [
    "## <div id=\"var\">変数の代入</div>\n",
    "+ `(変数名)=(値)` により変数に値を代入できる\n",
    "    - C言語と違って変数に型を指定しなくとも良い\n",
    "+ `=` は**代入**，`==` は**等しいという条件**\n",
    "+ 代入は何度も行うことができる\n",
    "    - 最後に代入した値になる"
   ]
  },
  {
   "cell_type": "code",
   "execution_count": null,
   "metadata": {},
   "outputs": [],
   "source": [
    "a=12\n",
    "b=34\n",
    "a,b"
   ]
  },
  {
   "cell_type": "code",
   "execution_count": null,
   "metadata": {},
   "outputs": [],
   "source": [
    "a+b, a-b"
   ]
  },
  {
   "cell_type": "code",
   "execution_count": null,
   "metadata": {},
   "outputs": [],
   "source": [
    "a=b # b の値を a に代入\n",
    "a,b, a+b, a-b"
   ]
  },
  {
   "cell_type": "code",
   "execution_count": null,
   "metadata": {},
   "outputs": [],
   "source": [
    "# 応用：小数aの第k桁までの表示（四捨五入せず)\n",
    "a=3.1415926535 # 表示させる小数\n",
    "k= 5 # 表示桁数\n",
    "int(a*(10**k))/(10**k)"
   ]
  },
  {
   "cell_type": "markdown",
   "metadata": {},
   "source": [
    "### 練習:\n",
    "- $x$ に $11$, $y$ に $23$ を入れて、$x+y,x×y,x^y,y^x,x/y,y/x$ を計算せよ。\n",
    "\n",
    "ここ<font size=20>↓</font>にセルを新規作成すること"
   ]
  },
  {
   "cell_type": "markdown",
   "metadata": {},
   "source": [
    "## <div id=\"notations\">進法表記</div>\n",
    "\n",
    "| 進法 | 接頭 | 変換 |\n",
    "| -- | -- | -- |\n",
    "| 2 | `0b` | `bin` |\n",
    "| 8 | `0o` | `oct` |\n",
    "| 16 | `0x` | `hex`|\n"
   ]
  },
  {
   "cell_type": "code",
   "execution_count": null,
   "metadata": {},
   "outputs": [],
   "source": [
    "0b11001"
   ]
  },
  {
   "cell_type": "markdown",
   "metadata": {},
   "source": [
    "練習で使用するセルは<font size=20>↓</font>のものを用いること\n",
    "（足りなければ作成すること)"
   ]
  },
  {
   "cell_type": "code",
   "execution_count": null,
   "metadata": {},
   "outputs": [],
   "source": []
  },
  {
   "cell_type": "markdown",
   "metadata": {},
   "source": [
    "## <div id=\"torf\">真偽値と判定 </div>\n",
    "### 真偽値\n",
    "\n",
    "`True` が `1` ，`False` が `0` に対応する．\n",
    "\n",
    "数値の比較については**C言語等と同じ**である：\n",
    "\n",
    "| 等しい |等しくない| より小さい | 以下 | より大きい | 以上 |\n",
    "|--|--|--|--|--|--|\n",
    "| `==` | `!=`　 | `<`　　 | `<=` | `>`　　 | `>=`　|\n",
    "\n",
    "条件文に用いる**かつ**や**または**などは **<font color=\"red\">C言語等と異なり</font>**，英単語をそのまま用いる\n",
    "\n",
    "|使用言語 | かつ | または | 否定 |\n",
    "|--|--|--|--|\n",
    "|Python| `and` | `or` | `not`|\n",
    "|C言語| `&&` | $||$ | `!` |"
   ]
  },
  {
   "cell_type": "code",
   "execution_count": null,
   "metadata": {},
   "outputs": [],
   "source": [
    "2020**1217 > 1217**2020"
   ]
  },
  {
   "cell_type": "code",
   "execution_count": null,
   "metadata": {},
   "outputs": [],
   "source": []
  },
  {
   "cell_type": "code",
   "execution_count": null,
   "metadata": {},
   "outputs": [],
   "source": []
  },
  {
   "cell_type": "markdown",
   "metadata": {},
   "source": [
    "### 練習\n",
    "真偽値により以下を比較しなさい\n",
    "1. $2^{0:4771}$ と $3^{0:3010}$ の大小\n",
    "2. $2^{(3^4)}$ と ${(2^3)}^4$ の大小\n",
    "\n",
    "↓ここに新規セルを作成すること\n"
   ]
  },
  {
   "cell_type": "markdown",
   "metadata": {},
   "source": [
    "## <div id=\"print\">print の構文</div>\n",
    "+ Jupyter では，最後の計算結果は自動的に表示される\n",
    "+ 途中経過等を表示させたい場合は，`print` などで表示をさせる必要がある\n",
    "+ Python における，`print` は実は様々な使い方があるのだが，ここでは以下の使い方を用いることにする\n",
    "```\n",
    "print('(書式)'%(変数))\n",
    "```\n",
    "+ C言語の `printf` とほぼ同様であるが，書式の後に `%` で指定することに注意\n",
    "+ 以下の例を参考にすること"
   ]
  },
  {
   "cell_type": "code",
   "execution_count": null,
   "metadata": {},
   "outputs": [],
   "source": [
    "# print の基本その１：1つの整数変数を表示\n",
    "n = 100\n",
    "print('n = %d'%n) # %d で整数型を指定，最後に変数を設定する"
   ]
  },
  {
   "cell_type": "code",
   "execution_count": null,
   "metadata": {},
   "outputs": [],
   "source": [
    "# print の基本その2: 複数の変数を表示\n",
    "a, b = 123, -456\n",
    "print('%d + (%d) = %d'%(a,b,a+b)) # %(a,b,a+b) で3つの変数を指定\n",
    "print('%d %+d = %d'%(a,b,a+b)) # 表示形式を変更．%+d で符合を常に表示させる"
   ]
  },
  {
   "cell_type": "code",
   "execution_count": null,
   "metadata": {},
   "outputs": [],
   "source": [
    "# print の基本その3：整数型以外の表示\n",
    "n = 127\n",
    "print('%d = %s = %s'%(n,bin(n),oct(n))) # %s で文字列として表示"
   ]
  },
  {
   "cell_type": "markdown",
   "metadata": {},
   "source": [
    "## <div id=\"if\">条件分岐</div>\n",
    "+ 組み立て方はC言語と同様であるが，<font color=\"red\">範囲指定の方法が大きく異なる</font>\n",
    "+ 括弧 `{ }` を**用いず**に，セミコロン `:` の後に**字下げ**で範囲を指定する\n",
    "    + (参考)Python における `{ }` は**辞書**や**集合**と呼ばれる別の形式で使われる\n",
    "+ 字下げが同じく続く限り，同じ範囲と見なす\n",
    "+ 更に字下げを行うことで，入れ子の指定ができる\n",
    "+ これらの仕様は，可読性を重視した結果と言える\n",
    "+ 字下げは `Tab` または `Shit+Tab` を用いて指定できる\n",
    "+ 具体例で確認することにする"
   ]
  },
  {
   "cell_type": "code",
   "execution_count": null,
   "metadata": {},
   "outputs": [],
   "source": [
    "# if の基本その1：if と else\n",
    "n= 123\n",
    "if n%2 ==0 :\n",
    "    print('%d は偶数です'%n)\n",
    "else:\n",
    "    print('%d は奇数です'%n)"
   ]
  },
  {
   "cell_type": "code",
   "execution_count": null,
   "metadata": {},
   "outputs": [],
   "source": [
    "# if の基本その2：if, elif, else\n",
    "n=123\n",
    "if n%9 ==0:\n",
    "    print('%d は9の倍数です'%n)\n",
    "elif n%3 == 0:\n",
    "    print('%d は3の倍数ですが9の倍数ではありません'%n)\n",
    "else:\n",
    "    print('????') # 各自内容を考えて設定しなさい"
   ]
  },
  {
   "cell_type": "code",
   "execution_count": null,
   "metadata": {},
   "outputs": [],
   "source": [
    "# if の基本その3: if を複数用いる\n",
    "# 各判定における表示を各自で設定しなさい\n",
    "n=123\n",
    "if n%2 == 0:\n",
    "    if n%3 == 0:\n",
    "        print('判定1')\n",
    "    else:\n",
    "        print('判定2')\n",
    "else:\n",
    "    print('判定3')\n"
   ]
  }
 ],
 "metadata": {
  "anaconda-cloud": {},
  "kernelspec": {
   "display_name": "Python 3",
   "language": "python",
   "name": "python3"
  },
  "language_info": {
   "codemirror_mode": {
    "name": "ipython",
    "version": 3
   },
   "file_extension": ".py",
   "mimetype": "text/x-python",
   "name": "python",
   "nbconvert_exporter": "python",
   "pygments_lexer": "ipython3",
   "version": "3.6.11"
  },
  "widgets": {
   "application/vnd.jupyter.widget-state+json": {
    "state": {},
    "version_major": 2,
    "version_minor": 0
   }
  }
 },
 "nbformat": 4,
 "nbformat_minor": 1
}
