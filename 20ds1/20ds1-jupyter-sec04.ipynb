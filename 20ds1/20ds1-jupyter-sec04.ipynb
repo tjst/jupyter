{
 "cells": [
  {
   "cell_type": "markdown",
   "metadata": {},
   "source": [
    "# 第4章リストの操作と繰り返し \n",
    "\n",
    "+ [(再掲)編集モードとコマンドモード](#modes)\n",
    "+ [リストの定義と参照](#list)\n",
    "+ [リスト要素への一斉操作](#oplist)\n",
    "+ [条件設定による部分リスト](#sublist)\n",
    "+ [繰り返し操作](#loop)\n",
    "+ [文字列の操作](#str)\n",
    "\n",
    "## <div id=\"modes\">(再掲)編集モードとコマンドモード </div>\n",
    "Jupyter では2つのモードを使って操作を行う\n",
    "\n",
    "+ <font color=\"green\">編集モード(セルの左側が緑)</font>では，セル内にコードを入力する\n",
    "+ <font color=\"blue\">コマンドモード(セルの左側が青)</font>では，セル全体の操作を行う\n",
    "    \n",
    "キーボートの操作は慣れると便利である．\n",
    "コマンドモードで  `h` で一覧を表示することは覚えておけば良いだろう．\n",
    "\n",
    "### 共通の操作\n",
    "| 操作 | マウスでの操作 | キーボードでの操作 |\n",
    "|:--:|:--:|:--:|\n",
    "| セルの実行 | 上のアイコンから `Run` を選択 | `Ctrl+Enter` |\n",
    "| セルを実行して次のセルへ | 上のメニューの `Cell` から選択| `Shift+Enter` |\n",
    "|コマンド一覧の呼び出し| (なし) | `Ctrl+Shift+p` |\n",
    "\n",
    "\n",
    "### <font color=\"green\">編集モードでの操作(セルの左側が緑)</font>\n",
    "| 操作 | マウスでの操作 | キーボードでの操作 |\n",
    "|:--:|:--:|:--:|\n",
    "|コマンドモードへの移行 | セルの左側をクリック | `Escape`| \n",
    "|コマンドの補完| (なし) | `Tab`| \n",
    "| コード実行 | 上のアイコンから `Run` を選択 | `Shift+Enter` |\n",
    "\n",
    "### <font color=\"blue\">コマンドモードでの操作(セルの左側が青)</font>\n",
    "| 操作 | マウスでの操作 | キーボードでの操作 |\n",
    "|--|--|--|\n",
    "|編集モードへの移行 | セルの中身をクリック | `Enter`| \n",
    "|セルを `code` に変更 | 上のメニューから選択 | `y`| \n",
    "|セルを `Markdown` に変更 | 上のメニューから選択 | `m`| \n",
    "|新規セルを上(resp. 下)に挿入 | 上のメニューの `Insert` から選択 | `a` (resp. `b`)| \n",
    "|セルのコピー| 上のメニューの `Edit` から選択 | `c` |\n",
    "|セルを上(resp. 下)に貼り付け| 上のメニューの `Edit` から選択 | `v` (resp. `Shift+ v`) |\n",
    "|セルを削除| 上のメニューの `Edit` から選択 | `d d` |\n",
    "|アンドゥ| 上のメニューの `Edit` から選択 | `z` |\n",
    "|コマンド一覧の呼び出し | (なし) | `p`|\n",
    "|ヘルプの表示 | 上のメニューの `Help` から選択 | `h`|\n",
    "\n"
   ]
  },
  {
   "cell_type": "markdown",
   "metadata": {},
   "source": [
    "## <div id=\"list\">リストの定義と参照 </div>\n",
    "\n",
    "+ リストは `[p,q,...]` という形で指定する\n",
    "+ 末尾に `[i-1]` をつけて `i` 番目の参照\n",
    "+ `[i:j]` で `[i]`(`i+1` 番目)から `[j-1]`(`j` 番目)までの部分リスト\n",
    "+ `[-i]` は後ろから `i` 番目\n",
    "+ リストの長さは `len` で求められる\n",
    "    "
   ]
  },
  {
   "cell_type": "code",
   "execution_count": null,
   "metadata": {},
   "outputs": [],
   "source": [
    "# リストの基本その1:リストの定義\n",
    "a=[1,2,4,8,16]\n",
    "print(a) # 全体の表示\n",
    "i=3\n",
    "print(a[i-1]) # i 番目の表示(要素)\n",
    "i,j=0,4\n",
    "print(a[i:j]) # [i] から [j-1] まで表示(部分リスト)\n",
    "print(len(a)) # リストの長さ"
   ]
  },
  {
   "cell_type": "code",
   "execution_count": null,
   "metadata": {},
   "outputs": [],
   "source": [
    "# リストの基本その2:range による連続データ\n",
    "mylist = range(3,9)\n",
    "print(mylist[0])\n",
    "print(mylist[-2])"
   ]
  },
  {
   "cell_type": "markdown",
   "metadata": {},
   "source": [
    "### 練習\n",
    "リスト `[1,2,4,8,16,32,64]` を変数 `b`に代入しなさい．\n",
    "その上で，以下を実行してその結果を確認しなさい．\n",
    "+ 最初の要素\n",
    "+ 最後の要素\n",
    "+ 最初から5番目の要素\n",
    "+ `b` の長さ\n",
    "+ 最初から8番目の要素\n",
    "+ 3番目以降の(部分)リスト\n",
    "+ 最初と最後を除いた(部分)リスト\n",
    "\n",
    "セルは<font size=10>↓</font>に作成すること"
   ]
  },
  {
   "cell_type": "markdown",
   "metadata": {},
   "source": [
    "## <div id=\"oplist\">リスト要素への一斉操作 </div>\n",
    "\n",
    "+ `[(xに対する処理) for x in (リスト)]` という形で設定する\n",
    "    + `x` は他の変数名でも構わない    "
   ]
  },
  {
   "cell_type": "code",
   "execution_count": null,
   "metadata": {},
   "outputs": [],
   "source": [
    "# リストの基本その3：一斉操作によるリストの作成\n",
    "a = range(1,11)\n",
    "a2 = [ x**2 for x in a]\n",
    "print(a2)"
   ]
  },
  {
   "cell_type": "markdown",
   "metadata": {},
   "source": [
    "### 練習\n",
    "$1$ から $20$ までの自然数をそれぞれ3乗して得られるリストを求めなさい。\n",
    "\n",
    "セルは↓に作成すること"
   ]
  },
  {
   "cell_type": "markdown",
   "metadata": {},
   "source": [
    "## <div id=\"sublist\">条件設定による部分リスト</div>\n",
    "\n",
    "+ `[(xに対する処理) for x in (リスト) if (条件式)]` という形で，条件を満たすもののみのリストが作成される"
   ]
  },
  {
   "cell_type": "code",
   "execution_count": null,
   "metadata": {},
   "outputs": [],
   "source": [
    "# リストの基本その4：特定の条件を満たす整数\n",
    "I = range(1,101)\n",
    "I2 = [ x for x in I if x%17 ==0 ]\n",
    "I2"
   ]
  },
  {
   "cell_type": "markdown",
   "metadata": {},
   "source": [
    "### 練習\n",
    "次を求めなさい。\n",
    "+ $1$から$1000$までの自然数で$7$で割り切れ、かつ$11$では割り切れないものの個数\n",
    "+ $10000$以下の自然数で(10進表記した際の)末尾が $3$ である $13$ の倍数の個数。\n",
    "\n",
    "セルは↓に作成すること"
   ]
  },
  {
   "cell_type": "markdown",
   "metadata": {},
   "source": [
    "## <div id=\"loop\">繰り返し</div>\n",
    "+ `for` は実はC言語よりも単純である\n",
    "    + `for (変数) in (リスト)` で各リストの要素に対して処理をする\n",
    "    + 使用例：`for i in range(n)` で n 回の繰り返しとなる．\n",
    "+ `while` はC言語と同様に用いることができる\n",
    "+ 繰り返しになるが，範囲の指定は<font color=\"red\">セミコロンと字下げ</font>で指定する\n",
    "+ 以下のコードを比べて，その挙動を比較しなさい"
   ]
  },
  {
   "cell_type": "code",
   "execution_count": null,
   "metadata": {},
   "outputs": [],
   "source": [
    "# 繰り返しの例その1 for による繰り返し (range)\n",
    "# range(N) は　[0,..,N-1] に対応\n",
    "N=5\n",
    "for i in range(N):\n",
    "    print('ループ中：i= %d'%i)\n",
    "print('ループ終：i= %d'%i)"
   ]
  },
  {
   "cell_type": "code",
   "execution_count": null,
   "metadata": {},
   "outputs": [],
   "source": [
    "# 繰り返しの例その2：for による繰り返し (一般のリスト)\n",
    "# リスト内の各要素について処理をしている\n",
    "mylist=[3,1,4,1,5,9]\n",
    "for i in mylist:\n",
    "    print(i)"
   ]
  },
  {
   "cell_type": "code",
   "execution_count": null,
   "metadata": {},
   "outputs": [],
   "source": [
    "# 繰り返しの例その3a：for による繰り返し (一般のリスト)\n",
    "# 字下げを変えて処理の違いを見る\n",
    "mylist=[3,1,4,1,5,9]\n",
    "sum=0\n",
    "for i in mylist:\n",
    "    sum+=i\n",
    "print(sum)   # ここの字下げに注目"
   ]
  },
  {
   "cell_type": "code",
   "execution_count": null,
   "metadata": {},
   "outputs": [],
   "source": [
    "# 繰り返しの例その3b：for による繰り返し (一般のリスト)\n",
    "# 上と字下げを変えると，処理が異なる\n",
    "mylist=[3,1,4,1,5,9]\n",
    "sum=0\n",
    "for i in mylist:\n",
    "    sum+=i\n",
    "    print(sum) # ここの字下げに注目"
   ]
  },
  {
   "cell_type": "code",
   "execution_count": null,
   "metadata": {},
   "outputs": [],
   "source": [
    "# 繰り返しの例その4: while の基本\n",
    "# 2のべき乗の中でMAX以上となる最小の数を求める\n",
    "MAX=1000 # これを超える最小のもの\n",
    "i=1\n",
    "while(i<MAX):\n",
    "    i=i*2\n",
    "print(i) # while を抜けてから表示"
   ]
  },
  {
   "cell_type": "code",
   "execution_count": null,
   "metadata": {},
   "outputs": [],
   "source": [
    "# 繰り返しの例：入試問題から (その1)\n",
    "#　初期値 a1 に対して，それを2倍して 64 で割った余りを繰り返す\n",
    "a1=1 # 初期値（ここを変更して動作確認せよ)\n",
    "an=a1\n",
    "r=64\n",
    "n=1\n",
    "while an!=0 :\n",
    "    print(\"a_%d = %2d = %s\"%(n,an,bin(an)))\n",
    "    an=(2*an)%r\n",
    "    n+=1\n",
    "print(\"a_%d = %2d = %s\"%(n,an,bin(an)))"
   ]
  },
  {
   "cell_type": "code",
   "execution_count": null,
   "metadata": {},
   "outputs": [],
   "source": [
    "# 繰り返しの例：入試問題から(その2)\n",
    "# 初項 a1 公差 d の等差数列の第n項までで\n",
    "# 2の倍数全体の和 D_n, 3の倍数の全体の和 T_n を求める\n",
    "a1,d=1,1 # 初項a1 公差 d\n",
    "an=a1\n",
    "D=T=0 # D: 2の倍数の和，T:3の倍数の和\n",
    "n=30 # 末項\n",
    "for i in range(1,n+1):\n",
    "    if an%2==0:\n",
    "        D+=an        \n",
    "        print(\"D_%d = %d\"%(i,D))        \n",
    "    if an%3==0:\n",
    "        T+=an\n",
    "        print(\"T_%d = %d\"%(i,T))\n",
    "    an+=d"
   ]
  },
  {
   "cell_type": "markdown",
   "metadata": {},
   "source": [
    "## <div id=\"str\">文字列の操作</div>\n",
    "+ 文字列は `'` または `\"` でくくって指定する\n",
    "+ `bin` や `hex` の結果は文字列である\n",
    "+ 文字列として日本語（いわゆる全角文字)が利用できるが，これまでの命令(`print` や括弧など)で用いていた，いわゆる半角文字とは異なるので注意\n",
    "+ 文字列の和は**そのままつなげる**"
   ]
  },
  {
   "cell_type": "code",
   "execution_count": null,
   "metadata": {},
   "outputs": [],
   "source": [
    "# 文字列の基本その1：各文字の指定\n",
    "mystr='Ritsumeikan Mathematics' # 文字列の設定\n",
    "print(mystr) # 文字列の表示\n",
    "print(mystr[0]) # 最初の文字の表示\n",
    "print(mystr[-2]) # 後ろから2文字を表示\n",
    "print(mystr[0:3],mystr[-4:-1]) # 先頭と末尾の3文字ずつを表示\n",
    "print(mystr[11]) # 何も表示されていないわけではない．各自確認すること"
   ]
  },
  {
   "cell_type": "code",
   "execution_count": null,
   "metadata": {},
   "outputs": [],
   "source": [
    "# 文字列の基本その2：見えない文字\n",
    "mystr1='立命館　数理'\n",
    "mystr2='立命館  数理'\n",
    "print(mystr1) # 一見すると同じだが\n",
    "print(mystr2)\n",
    "print(mystr1[5],mystr2[5]) # 実は違う．各自確認すること"
   ]
  },
  {
   "cell_type": "code",
   "execution_count": null,
   "metadata": {},
   "outputs": [],
   "source": [
    "# 文字列の基本その3：文字列の和\n",
    "a, b = 123, 456 # これらは整数\n",
    "print(\"%d + %d = %d\"%(a,b,a+b)) # 和は当然整数の和\n",
    "a2, b2 = bin(a), bin(b) # 2進表記を考える\n",
    "print(\"%s + %s = %s\"%(a2,b2,a2+b2)) # 和がどうなるか確認せよ"
   ]
  },
  {
   "cell_type": "code",
   "execution_count": null,
   "metadata": {},
   "outputs": [],
   "source": [
    "# 文字列その4 (応用例：簡単な整形)\n",
    "n = 543\n",
    "print('%d = %s_2'%(n,bin(n)[2:])) # bin(n) の接頭 0b を削除して表示"
   ]
  },
  {
   "cell_type": "markdown",
   "metadata": {},
   "source": [
    "---"
   ]
  }
 ],
 "metadata": {
  "anaconda-cloud": {},
  "kernelspec": {
   "display_name": "Python 3",
   "language": "python",
   "name": "python3"
  },
  "language_info": {
   "codemirror_mode": {
    "name": "ipython",
    "version": 3
   },
   "file_extension": ".py",
   "mimetype": "text/x-python",
   "name": "python",
   "nbconvert_exporter": "python",
   "pygments_lexer": "ipython3",
   "version": "3.6.11"
  },
  "widgets": {
   "application/vnd.jupyter.widget-state+json": {
    "state": {},
    "version_major": 2,
    "version_minor": 0
   }
  }
 },
 "nbformat": 4,
 "nbformat_minor": 1
}
